{
 "cells": [
  {
   "cell_type": "code",
   "execution_count": 16,
   "metadata": {},
   "outputs": [],
   "source": [
    "import pandas as pd\n",
    "import numpy as np\n",
    "import pandas as pd\n",
    "import seaborn as sns\n",
    "import matplotlib.pyplot as plt\n",
    "from sklearn import metrics as ms\n",
    "import statsmodels.api as sm\n",
    "from statsmodels.stats.outliers_influence import variance_inflation_factor\n",
    "\n",
    "from sklearn.linear_model import LinearRegression\n",
    "from sklearn.model_selection import train_test_split\n",
    "from sklearn.metrics import mean_squared_error, r2_score, mean_absolute_error"
   ]
  },
  {
   "cell_type": "code",
   "execution_count": 2,
   "metadata": {},
   "outputs": [
    {
     "data": {
      "text/html": [
       "<div>\n",
       "<style scoped>\n",
       "    .dataframe tbody tr th:only-of-type {\n",
       "        vertical-align: middle;\n",
       "    }\n",
       "\n",
       "    .dataframe tbody tr th {\n",
       "        vertical-align: top;\n",
       "    }\n",
       "\n",
       "    .dataframe thead th {\n",
       "        text-align: right;\n",
       "    }\n",
       "</style>\n",
       "<table border=\"1\" class=\"dataframe\">\n",
       "  <thead>\n",
       "    <tr style=\"text-align: right;\">\n",
       "      <th></th>\n",
       "      <th>Sex</th>\n",
       "      <th>Length</th>\n",
       "      <th>Diameter</th>\n",
       "      <th>Height</th>\n",
       "      <th>Whole weight</th>\n",
       "      <th>Shucked weight</th>\n",
       "      <th>Viscera weight</th>\n",
       "      <th>Shell weight</th>\n",
       "      <th>Rings</th>\n",
       "    </tr>\n",
       "  </thead>\n",
       "  <tbody>\n",
       "    <tr>\n",
       "      <th>0</th>\n",
       "      <td>F</td>\n",
       "      <td>0.525</td>\n",
       "      <td>0.400</td>\n",
       "      <td>0.135</td>\n",
       "      <td>0.7140</td>\n",
       "      <td>0.3180</td>\n",
       "      <td>0.1380</td>\n",
       "      <td>0.208</td>\n",
       "      <td>10</td>\n",
       "    </tr>\n",
       "    <tr>\n",
       "      <th>1</th>\n",
       "      <td>F</td>\n",
       "      <td>0.445</td>\n",
       "      <td>0.325</td>\n",
       "      <td>0.125</td>\n",
       "      <td>0.4550</td>\n",
       "      <td>0.1785</td>\n",
       "      <td>0.1125</td>\n",
       "      <td>0.140</td>\n",
       "      <td>9</td>\n",
       "    </tr>\n",
       "    <tr>\n",
       "      <th>2</th>\n",
       "      <td>M</td>\n",
       "      <td>0.710</td>\n",
       "      <td>0.540</td>\n",
       "      <td>0.165</td>\n",
       "      <td>1.9590</td>\n",
       "      <td>0.7665</td>\n",
       "      <td>0.2610</td>\n",
       "      <td>0.780</td>\n",
       "      <td>18</td>\n",
       "    </tr>\n",
       "    <tr>\n",
       "      <th>3</th>\n",
       "      <td>F</td>\n",
       "      <td>0.680</td>\n",
       "      <td>0.580</td>\n",
       "      <td>0.200</td>\n",
       "      <td>1.7870</td>\n",
       "      <td>0.5850</td>\n",
       "      <td>0.4530</td>\n",
       "      <td>0.600</td>\n",
       "      <td>19</td>\n",
       "    </tr>\n",
       "    <tr>\n",
       "      <th>4</th>\n",
       "      <td>M</td>\n",
       "      <td>0.605</td>\n",
       "      <td>0.470</td>\n",
       "      <td>0.160</td>\n",
       "      <td>1.1735</td>\n",
       "      <td>0.4975</td>\n",
       "      <td>0.2405</td>\n",
       "      <td>0.345</td>\n",
       "      <td>12</td>\n",
       "    </tr>\n",
       "  </tbody>\n",
       "</table>\n",
       "</div>"
      ],
      "text/plain": [
       "  Sex  Length  Diameter  Height  Whole weight  Shucked weight  Viscera weight  \\\n",
       "0   F   0.525     0.400   0.135        0.7140          0.3180          0.1380   \n",
       "1   F   0.445     0.325   0.125        0.4550          0.1785          0.1125   \n",
       "2   M   0.710     0.540   0.165        1.9590          0.7665          0.2610   \n",
       "3   F   0.680     0.580   0.200        1.7870          0.5850          0.4530   \n",
       "4   M   0.605     0.470   0.160        1.1735          0.4975          0.2405   \n",
       "\n",
       "   Shell weight  Rings  \n",
       "0         0.208     10  \n",
       "1         0.140      9  \n",
       "2         0.780     18  \n",
       "3         0.600     19  \n",
       "4         0.345     12  "
      ]
     },
     "execution_count": 2,
     "metadata": {},
     "output_type": "execute_result"
    }
   ],
   "source": [
    "abalone_data  = pd.read_csv(r'https://raw.githubusercontent.com/dphi-official/Datasets/master/abalone_data/training_set_label.csv' )\n",
    "\n",
    "abalone_data.head()"
   ]
  },
  {
   "cell_type": "markdown",
   "metadata": {},
   "source": [
    "# Exploratory Data Analysis\n",
    "\n",
    "*   Check the datatype of all the variables in the data\n",
    "*   Check whether there are any missing data or null data in the dataset .\n",
    "If found replace with appropiate value such as mean /median .Else if there has been any data insertion error and the variance is not large enough to impact the dataset ,then keep it."
   ]
  },
  {
   "cell_type": "code",
   "execution_count": 3,
   "metadata": {},
   "outputs": [
    {
     "name": "stdout",
     "output_type": "stream",
     "text": [
      "<class 'pandas.core.frame.DataFrame'>\n",
      "RangeIndex: 3132 entries, 0 to 3131\n",
      "Data columns (total 9 columns):\n",
      " #   Column          Non-Null Count  Dtype  \n",
      "---  ------          --------------  -----  \n",
      " 0   Sex             3132 non-null   object \n",
      " 1   Length          3132 non-null   float64\n",
      " 2   Diameter        3132 non-null   float64\n",
      " 3   Height          3132 non-null   float64\n",
      " 4   Whole weight    3132 non-null   float64\n",
      " 5   Shucked weight  3132 non-null   float64\n",
      " 6   Viscera weight  3132 non-null   float64\n",
      " 7   Shell weight    3132 non-null   float64\n",
      " 8   Rings           3132 non-null   int64  \n",
      "dtypes: float64(7), int64(1), object(1)\n",
      "memory usage: 220.3+ KB\n"
     ]
    }
   ],
   "source": [
    "abalone_data.info()\n"
   ]
  },
  {
   "cell_type": "code",
   "execution_count": 18,
   "metadata": {},
   "outputs": [
    {
     "data": {
      "text/html": [
       "<div>\n",
       "<style scoped>\n",
       "    .dataframe tbody tr th:only-of-type {\n",
       "        vertical-align: middle;\n",
       "    }\n",
       "\n",
       "    .dataframe tbody tr th {\n",
       "        vertical-align: top;\n",
       "    }\n",
       "\n",
       "    .dataframe thead th {\n",
       "        text-align: right;\n",
       "    }\n",
       "</style>\n",
       "<table border=\"1\" class=\"dataframe\">\n",
       "  <thead>\n",
       "    <tr style=\"text-align: right;\">\n",
       "      <th></th>\n",
       "      <th>Number of missing values</th>\n",
       "    </tr>\n",
       "  </thead>\n",
       "  <tbody>\n",
       "    <tr>\n",
       "      <th>Sex</th>\n",
       "      <td>0</td>\n",
       "    </tr>\n",
       "    <tr>\n",
       "      <th>Length</th>\n",
       "      <td>0</td>\n",
       "    </tr>\n",
       "    <tr>\n",
       "      <th>Diameter</th>\n",
       "      <td>0</td>\n",
       "    </tr>\n",
       "    <tr>\n",
       "      <th>Height</th>\n",
       "      <td>0</td>\n",
       "    </tr>\n",
       "    <tr>\n",
       "      <th>Whole weight</th>\n",
       "      <td>0</td>\n",
       "    </tr>\n",
       "    <tr>\n",
       "      <th>Shucked weight</th>\n",
       "      <td>0</td>\n",
       "    </tr>\n",
       "    <tr>\n",
       "      <th>Viscera weight</th>\n",
       "      <td>0</td>\n",
       "    </tr>\n",
       "    <tr>\n",
       "      <th>Shell weight</th>\n",
       "      <td>0</td>\n",
       "    </tr>\n",
       "    <tr>\n",
       "      <th>Rings</th>\n",
       "      <td>0</td>\n",
       "    </tr>\n",
       "    <tr>\n",
       "      <th>is_Female</th>\n",
       "      <td>0</td>\n",
       "    </tr>\n",
       "    <tr>\n",
       "      <th>is_Male</th>\n",
       "      <td>0</td>\n",
       "    </tr>\n",
       "    <tr>\n",
       "      <th>is_Infant</th>\n",
       "      <td>0</td>\n",
       "    </tr>\n",
       "  </tbody>\n",
       "</table>\n",
       "</div>"
      ],
      "text/plain": [
       "                Number of missing values\n",
       "Sex                                    0\n",
       "Length                                 0\n",
       "Diameter                               0\n",
       "Height                                 0\n",
       "Whole weight                           0\n",
       "Shucked weight                         0\n",
       "Viscera weight                         0\n",
       "Shell weight                           0\n",
       "Rings                                  0\n",
       "is_Female                              0\n",
       "is_Male                                0\n",
       "is_Infant                              0"
      ]
     },
     "execution_count": 18,
     "metadata": {},
     "output_type": "execute_result"
    }
   ],
   "source": [
    "pd.DataFrame( abalone_data.isnull().sum(), columns= ['Number of missing values'])"
   ]
  },
  {
   "cell_type": "code",
   "execution_count": 4,
   "metadata": {},
   "outputs": [
    {
     "data": {
      "text/html": [
       "<div>\n",
       "<style scoped>\n",
       "    .dataframe tbody tr th:only-of-type {\n",
       "        vertical-align: middle;\n",
       "    }\n",
       "\n",
       "    .dataframe tbody tr th {\n",
       "        vertical-align: top;\n",
       "    }\n",
       "\n",
       "    .dataframe thead th {\n",
       "        text-align: right;\n",
       "    }\n",
       "</style>\n",
       "<table border=\"1\" class=\"dataframe\">\n",
       "  <thead>\n",
       "    <tr style=\"text-align: right;\">\n",
       "      <th></th>\n",
       "      <th>Length</th>\n",
       "      <th>Diameter</th>\n",
       "      <th>Height</th>\n",
       "      <th>Whole weight</th>\n",
       "      <th>Shucked weight</th>\n",
       "      <th>Viscera weight</th>\n",
       "      <th>Shell weight</th>\n",
       "      <th>Rings</th>\n",
       "    </tr>\n",
       "  </thead>\n",
       "  <tbody>\n",
       "    <tr>\n",
       "      <th>count</th>\n",
       "      <td>3132.000000</td>\n",
       "      <td>3132.000000</td>\n",
       "      <td>3132.000000</td>\n",
       "      <td>3132.00000</td>\n",
       "      <td>3132.000000</td>\n",
       "      <td>3132.000000</td>\n",
       "      <td>3132.000000</td>\n",
       "      <td>3132.000000</td>\n",
       "    </tr>\n",
       "    <tr>\n",
       "      <th>mean</th>\n",
       "      <td>0.523707</td>\n",
       "      <td>0.407952</td>\n",
       "      <td>0.139277</td>\n",
       "      <td>0.82867</td>\n",
       "      <td>0.359229</td>\n",
       "      <td>0.180731</td>\n",
       "      <td>0.239159</td>\n",
       "      <td>9.947957</td>\n",
       "    </tr>\n",
       "    <tr>\n",
       "      <th>std</th>\n",
       "      <td>0.119891</td>\n",
       "      <td>0.099336</td>\n",
       "      <td>0.038991</td>\n",
       "      <td>0.49063</td>\n",
       "      <td>0.221946</td>\n",
       "      <td>0.109924</td>\n",
       "      <td>0.139040</td>\n",
       "      <td>3.230252</td>\n",
       "    </tr>\n",
       "    <tr>\n",
       "      <th>min</th>\n",
       "      <td>0.110000</td>\n",
       "      <td>0.090000</td>\n",
       "      <td>0.000000</td>\n",
       "      <td>0.00800</td>\n",
       "      <td>0.002500</td>\n",
       "      <td>0.000500</td>\n",
       "      <td>0.003000</td>\n",
       "      <td>2.000000</td>\n",
       "    </tr>\n",
       "    <tr>\n",
       "      <th>25%</th>\n",
       "      <td>0.450000</td>\n",
       "      <td>0.350000</td>\n",
       "      <td>0.115000</td>\n",
       "      <td>0.44150</td>\n",
       "      <td>0.185375</td>\n",
       "      <td>0.093375</td>\n",
       "      <td>0.130000</td>\n",
       "      <td>8.000000</td>\n",
       "    </tr>\n",
       "    <tr>\n",
       "      <th>50%</th>\n",
       "      <td>0.545000</td>\n",
       "      <td>0.425000</td>\n",
       "      <td>0.140000</td>\n",
       "      <td>0.79950</td>\n",
       "      <td>0.335500</td>\n",
       "      <td>0.170000</td>\n",
       "      <td>0.235000</td>\n",
       "      <td>10.000000</td>\n",
       "    </tr>\n",
       "    <tr>\n",
       "      <th>75%</th>\n",
       "      <td>0.615000</td>\n",
       "      <td>0.480000</td>\n",
       "      <td>0.165000</td>\n",
       "      <td>1.15300</td>\n",
       "      <td>0.499500</td>\n",
       "      <td>0.252500</td>\n",
       "      <td>0.330000</td>\n",
       "      <td>11.000000</td>\n",
       "    </tr>\n",
       "    <tr>\n",
       "      <th>max</th>\n",
       "      <td>0.815000</td>\n",
       "      <td>0.650000</td>\n",
       "      <td>0.515000</td>\n",
       "      <td>2.82550</td>\n",
       "      <td>1.488000</td>\n",
       "      <td>0.760000</td>\n",
       "      <td>1.005000</td>\n",
       "      <td>29.000000</td>\n",
       "    </tr>\n",
       "  </tbody>\n",
       "</table>\n",
       "</div>"
      ],
      "text/plain": [
       "            Length     Diameter       Height  Whole weight  Shucked weight  \\\n",
       "count  3132.000000  3132.000000  3132.000000    3132.00000     3132.000000   \n",
       "mean      0.523707     0.407952     0.139277       0.82867        0.359229   \n",
       "std       0.119891     0.099336     0.038991       0.49063        0.221946   \n",
       "min       0.110000     0.090000     0.000000       0.00800        0.002500   \n",
       "25%       0.450000     0.350000     0.115000       0.44150        0.185375   \n",
       "50%       0.545000     0.425000     0.140000       0.79950        0.335500   \n",
       "75%       0.615000     0.480000     0.165000       1.15300        0.499500   \n",
       "max       0.815000     0.650000     0.515000       2.82550        1.488000   \n",
       "\n",
       "       Viscera weight  Shell weight        Rings  \n",
       "count     3132.000000   3132.000000  3132.000000  \n",
       "mean         0.180731      0.239159     9.947957  \n",
       "std          0.109924      0.139040     3.230252  \n",
       "min          0.000500      0.003000     2.000000  \n",
       "25%          0.093375      0.130000     8.000000  \n",
       "50%          0.170000      0.235000    10.000000  \n",
       "75%          0.252500      0.330000    11.000000  \n",
       "max          0.760000      1.005000    29.000000  "
      ]
     },
     "execution_count": 4,
     "metadata": {},
     "output_type": "execute_result"
    }
   ],
   "source": [
    "abalone_data.describe()"
   ]
  },
  {
   "cell_type": "code",
   "execution_count": 5,
   "metadata": {},
   "outputs": [
    {
     "data": {
      "text/plain": [
       "M    1138\n",
       "I    1013\n",
       "F     981\n",
       "Name: Sex, dtype: int64"
      ]
     },
     "execution_count": 5,
     "metadata": {},
     "output_type": "execute_result"
    }
   ],
   "source": [
    "abalone_data.Sex.value_counts()"
   ]
  },
  {
   "cell_type": "code",
   "execution_count": 6,
   "metadata": {},
   "outputs": [
    {
     "data": {
      "text/html": [
       "<style  type=\"text/css\" >\n",
       "    #T_fbf99776_ea2e_11ea_b938_88b111445dferow0_col0 {\n",
       "            background-color:  #053061;\n",
       "            color:  #f1f1f1;\n",
       "        }    #T_fbf99776_ea2e_11ea_b938_88b111445dferow0_col1 {\n",
       "            background-color:  #0d3f76;\n",
       "            color:  #f1f1f1;\n",
       "        }    #T_fbf99776_ea2e_11ea_b938_88b111445dferow0_col2 {\n",
       "            background-color:  #78b4d5;\n",
       "            color:  #000000;\n",
       "        }    #T_fbf99776_ea2e_11ea_b938_88b111445dferow0_col3 {\n",
       "            background-color:  #3681ba;\n",
       "            color:  #000000;\n",
       "        }    #T_fbf99776_ea2e_11ea_b938_88b111445dferow0_col4 {\n",
       "            background-color:  #3a87bd;\n",
       "            color:  #000000;\n",
       "        }    #T_fbf99776_ea2e_11ea_b938_88b111445dferow0_col5 {\n",
       "            background-color:  #4291c2;\n",
       "            color:  #000000;\n",
       "        }    #T_fbf99776_ea2e_11ea_b938_88b111445dferow0_col6 {\n",
       "            background-color:  #75b2d4;\n",
       "            color:  #000000;\n",
       "        }    #T_fbf99776_ea2e_11ea_b938_88b111445dferow0_col7 {\n",
       "            background-color:  #df765e;\n",
       "            color:  #000000;\n",
       "        }    #T_fbf99776_ea2e_11ea_b938_88b111445dferow1_col0 {\n",
       "            background-color:  #0d3f76;\n",
       "            color:  #f1f1f1;\n",
       "        }    #T_fbf99776_ea2e_11ea_b938_88b111445dferow1_col1 {\n",
       "            background-color:  #053061;\n",
       "            color:  #f1f1f1;\n",
       "        }    #T_fbf99776_ea2e_11ea_b938_88b111445dferow1_col2 {\n",
       "            background-color:  #68abd0;\n",
       "            color:  #000000;\n",
       "        }    #T_fbf99776_ea2e_11ea_b938_88b111445dferow1_col3 {\n",
       "            background-color:  #3681ba;\n",
       "            color:  #000000;\n",
       "        }    #T_fbf99776_ea2e_11ea_b938_88b111445dferow1_col4 {\n",
       "            background-color:  #3c8abe;\n",
       "            color:  #000000;\n",
       "        }    #T_fbf99776_ea2e_11ea_b938_88b111445dferow1_col5 {\n",
       "            background-color:  #4393c3;\n",
       "            color:  #000000;\n",
       "        }    #T_fbf99776_ea2e_11ea_b938_88b111445dferow1_col6 {\n",
       "            background-color:  #65a9cf;\n",
       "            color:  #000000;\n",
       "        }    #T_fbf99776_ea2e_11ea_b938_88b111445dferow1_col7 {\n",
       "            background-color:  #e8896c;\n",
       "            color:  #000000;\n",
       "        }    #T_fbf99776_ea2e_11ea_b938_88b111445dferow2_col0 {\n",
       "            background-color:  #65a9cf;\n",
       "            color:  #000000;\n",
       "        }    #T_fbf99776_ea2e_11ea_b938_88b111445dferow2_col1 {\n",
       "            background-color:  #5fa5cd;\n",
       "            color:  #000000;\n",
       "        }    #T_fbf99776_ea2e_11ea_b938_88b111445dferow2_col2 {\n",
       "            background-color:  #053061;\n",
       "            color:  #f1f1f1;\n",
       "        }    #T_fbf99776_ea2e_11ea_b938_88b111445dferow2_col3 {\n",
       "            background-color:  #6eaed2;\n",
       "            color:  #000000;\n",
       "        }    #T_fbf99776_ea2e_11ea_b938_88b111445dferow2_col4 {\n",
       "            background-color:  #84bcd9;\n",
       "            color:  #000000;\n",
       "        }    #T_fbf99776_ea2e_11ea_b938_88b111445dferow2_col5 {\n",
       "            background-color:  #81bad8;\n",
       "            color:  #000000;\n",
       "        }    #T_fbf99776_ea2e_11ea_b938_88b111445dferow2_col6 {\n",
       "            background-color:  #98c8e0;\n",
       "            color:  #000000;\n",
       "        }    #T_fbf99776_ea2e_11ea_b938_88b111445dferow2_col7 {\n",
       "            background-color:  #f3a481;\n",
       "            color:  #000000;\n",
       "        }    #T_fbf99776_ea2e_11ea_b938_88b111445dferow3_col0 {\n",
       "            background-color:  #3783bb;\n",
       "            color:  #000000;\n",
       "        }    #T_fbf99776_ea2e_11ea_b938_88b111445dferow3_col1 {\n",
       "            background-color:  #3a87bd;\n",
       "            color:  #000000;\n",
       "        }    #T_fbf99776_ea2e_11ea_b938_88b111445dferow3_col2 {\n",
       "            background-color:  #8ac0db;\n",
       "            color:  #000000;\n",
       "        }    #T_fbf99776_ea2e_11ea_b938_88b111445dferow3_col3 {\n",
       "            background-color:  #053061;\n",
       "            color:  #f1f1f1;\n",
       "        }    #T_fbf99776_ea2e_11ea_b938_88b111445dferow3_col4 {\n",
       "            background-color:  #124984;\n",
       "            color:  #f1f1f1;\n",
       "        }    #T_fbf99776_ea2e_11ea_b938_88b111445dferow3_col5 {\n",
       "            background-color:  #185493;\n",
       "            color:  #f1f1f1;\n",
       "        }    #T_fbf99776_ea2e_11ea_b938_88b111445dferow3_col6 {\n",
       "            background-color:  #266caf;\n",
       "            color:  #f1f1f1;\n",
       "        }    #T_fbf99776_ea2e_11ea_b938_88b111445dferow3_col7 {\n",
       "            background-color:  #d6604d;\n",
       "            color:  #000000;\n",
       "        }    #T_fbf99776_ea2e_11ea_b938_88b111445dferow4_col0 {\n",
       "            background-color:  #569fc9;\n",
       "            color:  #000000;\n",
       "        }    #T_fbf99776_ea2e_11ea_b938_88b111445dferow4_col1 {\n",
       "            background-color:  #65a9cf;\n",
       "            color:  #000000;\n",
       "        }    #T_fbf99776_ea2e_11ea_b938_88b111445dferow4_col2 {\n",
       "            background-color:  #d2e6f0;\n",
       "            color:  #000000;\n",
       "        }    #T_fbf99776_ea2e_11ea_b938_88b111445dferow4_col3 {\n",
       "            background-color:  #15508d;\n",
       "            color:  #f1f1f1;\n",
       "        }    #T_fbf99776_ea2e_11ea_b938_88b111445dferow4_col4 {\n",
       "            background-color:  #053061;\n",
       "            color:  #f1f1f1;\n",
       "        }    #T_fbf99776_ea2e_11ea_b938_88b111445dferow4_col5 {\n",
       "            background-color:  #2c75b4;\n",
       "            color:  #000000;\n",
       "        }    #T_fbf99776_ea2e_11ea_b938_88b111445dferow4_col6 {\n",
       "            background-color:  #90c4dd;\n",
       "            color:  #000000;\n",
       "        }    #T_fbf99776_ea2e_11ea_b938_88b111445dferow4_col7 {\n",
       "            background-color:  #67001f;\n",
       "            color:  #f1f1f1;\n",
       "        }    #T_fbf99776_ea2e_11ea_b938_88b111445dferow5_col0 {\n",
       "            background-color:  #4f9bc7;\n",
       "            color:  #000000;\n",
       "        }    #T_fbf99776_ea2e_11ea_b938_88b111445dferow5_col1 {\n",
       "            background-color:  #5fa5cd;\n",
       "            color:  #000000;\n",
       "        }    #T_fbf99776_ea2e_11ea_b938_88b111445dferow5_col2 {\n",
       "            background-color:  #acd2e5;\n",
       "            color:  #000000;\n",
       "        }    #T_fbf99776_ea2e_11ea_b938_88b111445dferow5_col3 {\n",
       "            background-color:  #195696;\n",
       "            color:  #f1f1f1;\n",
       "        }    #T_fbf99776_ea2e_11ea_b938_88b111445dferow5_col4 {\n",
       "            background-color:  #266caf;\n",
       "            color:  #f1f1f1;\n",
       "        }    #T_fbf99776_ea2e_11ea_b938_88b111445dferow5_col5 {\n",
       "            background-color:  #053061;\n",
       "            color:  #f1f1f1;\n",
       "        }    #T_fbf99776_ea2e_11ea_b938_88b111445dferow5_col6 {\n",
       "            background-color:  #65a9cf;\n",
       "            color:  #000000;\n",
       "        }    #T_fbf99776_ea2e_11ea_b938_88b111445dferow5_col7 {\n",
       "            background-color:  #bf3338;\n",
       "            color:  #f1f1f1;\n",
       "        }    #T_fbf99776_ea2e_11ea_b938_88b111445dferow6_col0 {\n",
       "            background-color:  #529dc8;\n",
       "            color:  #000000;\n",
       "        }    #T_fbf99776_ea2e_11ea_b938_88b111445dferow6_col1 {\n",
       "            background-color:  #4c99c6;\n",
       "            color:  #000000;\n",
       "        }    #T_fbf99776_ea2e_11ea_b938_88b111445dferow6_col2 {\n",
       "            background-color:  #87beda;\n",
       "            color:  #000000;\n",
       "        }    #T_fbf99776_ea2e_11ea_b938_88b111445dferow6_col3 {\n",
       "            background-color:  #1e61a5;\n",
       "            color:  #f1f1f1;\n",
       "        }    #T_fbf99776_ea2e_11ea_b938_88b111445dferow6_col4 {\n",
       "            background-color:  #408fc1;\n",
       "            color:  #000000;\n",
       "        }    #T_fbf99776_ea2e_11ea_b938_88b111445dferow6_col5 {\n",
       "            background-color:  #3c8abe;\n",
       "            color:  #000000;\n",
       "        }    #T_fbf99776_ea2e_11ea_b938_88b111445dferow6_col6 {\n",
       "            background-color:  #053061;\n",
       "            color:  #f1f1f1;\n",
       "        }    #T_fbf99776_ea2e_11ea_b938_88b111445dferow6_col7 {\n",
       "            background-color:  #f9c2a7;\n",
       "            color:  #000000;\n",
       "        }    #T_fbf99776_ea2e_11ea_b938_88b111445dferow7_col0 {\n",
       "            background-color:  #67001f;\n",
       "            color:  #f1f1f1;\n",
       "        }    #T_fbf99776_ea2e_11ea_b938_88b111445dferow7_col1 {\n",
       "            background-color:  #67001f;\n",
       "            color:  #f1f1f1;\n",
       "        }    #T_fbf99776_ea2e_11ea_b938_88b111445dferow7_col2 {\n",
       "            background-color:  #67001f;\n",
       "            color:  #f1f1f1;\n",
       "        }    #T_fbf99776_ea2e_11ea_b938_88b111445dferow7_col3 {\n",
       "            background-color:  #67001f;\n",
       "            color:  #f1f1f1;\n",
       "        }    #T_fbf99776_ea2e_11ea_b938_88b111445dferow7_col4 {\n",
       "            background-color:  #67001f;\n",
       "            color:  #f1f1f1;\n",
       "        }    #T_fbf99776_ea2e_11ea_b938_88b111445dferow7_col5 {\n",
       "            background-color:  #67001f;\n",
       "            color:  #f1f1f1;\n",
       "        }    #T_fbf99776_ea2e_11ea_b938_88b111445dferow7_col6 {\n",
       "            background-color:  #67001f;\n",
       "            color:  #f1f1f1;\n",
       "        }    #T_fbf99776_ea2e_11ea_b938_88b111445dferow7_col7 {\n",
       "            background-color:  #053061;\n",
       "            color:  #f1f1f1;\n",
       "        }</style><table id=\"T_fbf99776_ea2e_11ea_b938_88b111445dfe\" ><thead>    <tr>        <th class=\"blank level0\" ></th>        <th class=\"col_heading level0 col0\" >Length</th>        <th class=\"col_heading level0 col1\" >Diameter</th>        <th class=\"col_heading level0 col2\" >Height</th>        <th class=\"col_heading level0 col3\" >Whole weight</th>        <th class=\"col_heading level0 col4\" >Shucked weight</th>        <th class=\"col_heading level0 col5\" >Viscera weight</th>        <th class=\"col_heading level0 col6\" >Shell weight</th>        <th class=\"col_heading level0 col7\" >Rings</th>    </tr></thead><tbody>\n",
       "                <tr>\n",
       "                        <th id=\"T_fbf99776_ea2e_11ea_b938_88b111445dfelevel0_row0\" class=\"row_heading level0 row0\" >Length</th>\n",
       "                        <td id=\"T_fbf99776_ea2e_11ea_b938_88b111445dferow0_col0\" class=\"data row0 col0\" >1.000000</td>\n",
       "                        <td id=\"T_fbf99776_ea2e_11ea_b938_88b111445dferow0_col1\" class=\"data row0 col1\" >0.986523</td>\n",
       "                        <td id=\"T_fbf99776_ea2e_11ea_b938_88b111445dferow0_col2\" class=\"data row0 col2\" >0.890674</td>\n",
       "                        <td id=\"T_fbf99776_ea2e_11ea_b938_88b111445dferow0_col3\" class=\"data row0 col3\" >0.924719</td>\n",
       "                        <td id=\"T_fbf99776_ea2e_11ea_b938_88b111445dferow0_col4\" class=\"data row0 col4\" >0.898828</td>\n",
       "                        <td id=\"T_fbf99776_ea2e_11ea_b938_88b111445dferow0_col5\" class=\"data row0 col5\" >0.901679</td>\n",
       "                        <td id=\"T_fbf99776_ea2e_11ea_b938_88b111445dferow0_col6\" class=\"data row0 col6\" >0.900571</td>\n",
       "                        <td id=\"T_fbf99776_ea2e_11ea_b938_88b111445dferow0_col7\" class=\"data row0 col7\" >0.550276</td>\n",
       "            </tr>\n",
       "            <tr>\n",
       "                        <th id=\"T_fbf99776_ea2e_11ea_b938_88b111445dfelevel0_row1\" class=\"row_heading level0 row1\" >Diameter</th>\n",
       "                        <td id=\"T_fbf99776_ea2e_11ea_b938_88b111445dferow1_col0\" class=\"data row1 col0\" >0.986523</td>\n",
       "                        <td id=\"T_fbf99776_ea2e_11ea_b938_88b111445dferow1_col1\" class=\"data row1 col1\" >1.000000</td>\n",
       "                        <td id=\"T_fbf99776_ea2e_11ea_b938_88b111445dferow1_col2\" class=\"data row1 col2\" >0.897447</td>\n",
       "                        <td id=\"T_fbf99776_ea2e_11ea_b938_88b111445dferow1_col3\" class=\"data row1 col3\" >0.925138</td>\n",
       "                        <td id=\"T_fbf99776_ea2e_11ea_b938_88b111445dferow1_col4\" class=\"data row1 col4\" >0.894484</td>\n",
       "                        <td id=\"T_fbf99776_ea2e_11ea_b938_88b111445dferow1_col5\" class=\"data row1 col5\" >0.898299</td>\n",
       "                        <td id=\"T_fbf99776_ea2e_11ea_b938_88b111445dferow1_col6\" class=\"data row1 col6\" >0.908248</td>\n",
       "                        <td id=\"T_fbf99776_ea2e_11ea_b938_88b111445dferow1_col7\" class=\"data row1 col7\" >0.567615</td>\n",
       "            </tr>\n",
       "            <tr>\n",
       "                        <th id=\"T_fbf99776_ea2e_11ea_b938_88b111445dfelevel0_row2\" class=\"row_heading level0 row2\" >Height</th>\n",
       "                        <td id=\"T_fbf99776_ea2e_11ea_b938_88b111445dferow2_col0\" class=\"data row2 col0\" >0.890674</td>\n",
       "                        <td id=\"T_fbf99776_ea2e_11ea_b938_88b111445dferow2_col1\" class=\"data row2 col1\" >0.897447</td>\n",
       "                        <td id=\"T_fbf99776_ea2e_11ea_b938_88b111445dferow2_col2\" class=\"data row2 col2\" >1.000000</td>\n",
       "                        <td id=\"T_fbf99776_ea2e_11ea_b938_88b111445dferow2_col3\" class=\"data row2 col3\" >0.881028</td>\n",
       "                        <td id=\"T_fbf99776_ea2e_11ea_b938_88b111445dferow2_col4\" class=\"data row2 col4\" >0.834576</td>\n",
       "                        <td id=\"T_fbf99776_ea2e_11ea_b938_88b111445dferow2_col5\" class=\"data row2 col5\" >0.859091</td>\n",
       "                        <td id=\"T_fbf99776_ea2e_11ea_b938_88b111445dferow2_col6\" class=\"data row2 col6\" >0.882061</td>\n",
       "                        <td id=\"T_fbf99776_ea2e_11ea_b938_88b111445dferow2_col7\" class=\"data row2 col7\" >0.589325</td>\n",
       "            </tr>\n",
       "            <tr>\n",
       "                        <th id=\"T_fbf99776_ea2e_11ea_b938_88b111445dfelevel0_row3\" class=\"row_heading level0 row3\" >Whole weight</th>\n",
       "                        <td id=\"T_fbf99776_ea2e_11ea_b938_88b111445dferow3_col0\" class=\"data row3 col0\" >0.924719</td>\n",
       "                        <td id=\"T_fbf99776_ea2e_11ea_b938_88b111445dferow3_col1\" class=\"data row3 col1\" >0.925138</td>\n",
       "                        <td id=\"T_fbf99776_ea2e_11ea_b938_88b111445dferow3_col2\" class=\"data row3 col2\" >0.881028</td>\n",
       "                        <td id=\"T_fbf99776_ea2e_11ea_b938_88b111445dferow3_col3\" class=\"data row3 col3\" >1.000000</td>\n",
       "                        <td id=\"T_fbf99776_ea2e_11ea_b938_88b111445dferow3_col4\" class=\"data row3 col4\" >0.971052</td>\n",
       "                        <td id=\"T_fbf99776_ea2e_11ea_b938_88b111445dferow3_col5\" class=\"data row3 col5\" >0.965639</td>\n",
       "                        <td id=\"T_fbf99776_ea2e_11ea_b938_88b111445dferow3_col6\" class=\"data row3 col6\" >0.957100</td>\n",
       "                        <td id=\"T_fbf99776_ea2e_11ea_b938_88b111445dferow3_col7\" class=\"data row3 col7\" >0.534093</td>\n",
       "            </tr>\n",
       "            <tr>\n",
       "                        <th id=\"T_fbf99776_ea2e_11ea_b938_88b111445dfelevel0_row4\" class=\"row_heading level0 row4\" >Shucked weight</th>\n",
       "                        <td id=\"T_fbf99776_ea2e_11ea_b938_88b111445dferow4_col0\" class=\"data row4 col0\" >0.898828</td>\n",
       "                        <td id=\"T_fbf99776_ea2e_11ea_b938_88b111445dferow4_col1\" class=\"data row4 col1\" >0.894484</td>\n",
       "                        <td id=\"T_fbf99776_ea2e_11ea_b938_88b111445dferow4_col2\" class=\"data row4 col2\" >0.834576</td>\n",
       "                        <td id=\"T_fbf99776_ea2e_11ea_b938_88b111445dferow4_col3\" class=\"data row4 col3\" >0.971052</td>\n",
       "                        <td id=\"T_fbf99776_ea2e_11ea_b938_88b111445dferow4_col4\" class=\"data row4 col4\" >1.000000</td>\n",
       "                        <td id=\"T_fbf99776_ea2e_11ea_b938_88b111445dferow4_col5\" class=\"data row4 col5\" >0.933097</td>\n",
       "                        <td id=\"T_fbf99776_ea2e_11ea_b938_88b111445dferow4_col6\" class=\"data row4 col6\" >0.887878</td>\n",
       "                        <td id=\"T_fbf99776_ea2e_11ea_b938_88b111445dferow4_col7\" class=\"data row4 col7\" >0.415403</td>\n",
       "            </tr>\n",
       "            <tr>\n",
       "                        <th id=\"T_fbf99776_ea2e_11ea_b938_88b111445dfelevel0_row5\" class=\"row_heading level0 row5\" >Viscera weight</th>\n",
       "                        <td id=\"T_fbf99776_ea2e_11ea_b938_88b111445dferow5_col0\" class=\"data row5 col0\" >0.901679</td>\n",
       "                        <td id=\"T_fbf99776_ea2e_11ea_b938_88b111445dferow5_col1\" class=\"data row5 col1\" >0.898299</td>\n",
       "                        <td id=\"T_fbf99776_ea2e_11ea_b938_88b111445dferow5_col2\" class=\"data row5 col2\" >0.859091</td>\n",
       "                        <td id=\"T_fbf99776_ea2e_11ea_b938_88b111445dferow5_col3\" class=\"data row5 col3\" >0.965639</td>\n",
       "                        <td id=\"T_fbf99776_ea2e_11ea_b938_88b111445dferow5_col4\" class=\"data row5 col4\" >0.933097</td>\n",
       "                        <td id=\"T_fbf99776_ea2e_11ea_b938_88b111445dferow5_col5\" class=\"data row5 col5\" >1.000000</td>\n",
       "                        <td id=\"T_fbf99776_ea2e_11ea_b938_88b111445dferow5_col6\" class=\"data row5 col6\" >0.908051</td>\n",
       "                        <td id=\"T_fbf99776_ea2e_11ea_b938_88b111445dferow5_col7\" class=\"data row5 col7\" >0.496904</td>\n",
       "            </tr>\n",
       "            <tr>\n",
       "                        <th id=\"T_fbf99776_ea2e_11ea_b938_88b111445dfelevel0_row6\" class=\"row_heading level0 row6\" >Shell weight</th>\n",
       "                        <td id=\"T_fbf99776_ea2e_11ea_b938_88b111445dferow6_col0\" class=\"data row6 col0\" >0.900571</td>\n",
       "                        <td id=\"T_fbf99776_ea2e_11ea_b938_88b111445dferow6_col1\" class=\"data row6 col1\" >0.908248</td>\n",
       "                        <td id=\"T_fbf99776_ea2e_11ea_b938_88b111445dferow6_col2\" class=\"data row6 col2\" >0.882061</td>\n",
       "                        <td id=\"T_fbf99776_ea2e_11ea_b938_88b111445dferow6_col3\" class=\"data row6 col3\" >0.957100</td>\n",
       "                        <td id=\"T_fbf99776_ea2e_11ea_b938_88b111445dferow6_col4\" class=\"data row6 col4\" >0.887878</td>\n",
       "                        <td id=\"T_fbf99776_ea2e_11ea_b938_88b111445dferow6_col5\" class=\"data row6 col5\" >0.908051</td>\n",
       "                        <td id=\"T_fbf99776_ea2e_11ea_b938_88b111445dferow6_col6\" class=\"data row6 col6\" >1.000000</td>\n",
       "                        <td id=\"T_fbf99776_ea2e_11ea_b938_88b111445dferow6_col7\" class=\"data row6 col7\" >0.622351</td>\n",
       "            </tr>\n",
       "            <tr>\n",
       "                        <th id=\"T_fbf99776_ea2e_11ea_b938_88b111445dfelevel0_row7\" class=\"row_heading level0 row7\" >Rings</th>\n",
       "                        <td id=\"T_fbf99776_ea2e_11ea_b938_88b111445dferow7_col0\" class=\"data row7 col0\" >0.550276</td>\n",
       "                        <td id=\"T_fbf99776_ea2e_11ea_b938_88b111445dferow7_col1\" class=\"data row7 col1\" >0.567615</td>\n",
       "                        <td id=\"T_fbf99776_ea2e_11ea_b938_88b111445dferow7_col2\" class=\"data row7 col2\" >0.589325</td>\n",
       "                        <td id=\"T_fbf99776_ea2e_11ea_b938_88b111445dferow7_col3\" class=\"data row7 col3\" >0.534093</td>\n",
       "                        <td id=\"T_fbf99776_ea2e_11ea_b938_88b111445dferow7_col4\" class=\"data row7 col4\" >0.415403</td>\n",
       "                        <td id=\"T_fbf99776_ea2e_11ea_b938_88b111445dferow7_col5\" class=\"data row7 col5\" >0.496904</td>\n",
       "                        <td id=\"T_fbf99776_ea2e_11ea_b938_88b111445dferow7_col6\" class=\"data row7 col6\" >0.622351</td>\n",
       "                        <td id=\"T_fbf99776_ea2e_11ea_b938_88b111445dferow7_col7\" class=\"data row7 col7\" >1.000000</td>\n",
       "            </tr>\n",
       "    </tbody></table>"
      ],
      "text/plain": [
       "<pandas.io.formats.style.Styler at 0x20841ccf388>"
      ]
     },
     "execution_count": 6,
     "metadata": {},
     "output_type": "execute_result"
    }
   ],
   "source": [
    "corr=abalone_data.corr()\n",
    "corr.style.background_gradient(cmap='RdBu')"
   ]
  },
  {
   "cell_type": "code",
   "execution_count": 9,
   "metadata": {},
   "outputs": [
    {
     "data": {
      "text/html": [
       "<div>\n",
       "<style scoped>\n",
       "    .dataframe tbody tr th:only-of-type {\n",
       "        vertical-align: middle;\n",
       "    }\n",
       "\n",
       "    .dataframe tbody tr th {\n",
       "        vertical-align: top;\n",
       "    }\n",
       "\n",
       "    .dataframe thead th {\n",
       "        text-align: right;\n",
       "    }\n",
       "</style>\n",
       "<table border=\"1\" class=\"dataframe\">\n",
       "  <thead>\n",
       "    <tr style=\"text-align: right;\">\n",
       "      <th></th>\n",
       "      <th>Gender_F</th>\n",
       "      <th>Gender_I</th>\n",
       "      <th>Gender_M</th>\n",
       "    </tr>\n",
       "  </thead>\n",
       "  <tbody>\n",
       "    <tr>\n",
       "      <th>0</th>\n",
       "      <td>1</td>\n",
       "      <td>0</td>\n",
       "      <td>0</td>\n",
       "    </tr>\n",
       "    <tr>\n",
       "      <th>1</th>\n",
       "      <td>1</td>\n",
       "      <td>0</td>\n",
       "      <td>0</td>\n",
       "    </tr>\n",
       "    <tr>\n",
       "      <th>2</th>\n",
       "      <td>0</td>\n",
       "      <td>0</td>\n",
       "      <td>1</td>\n",
       "    </tr>\n",
       "    <tr>\n",
       "      <th>3</th>\n",
       "      <td>1</td>\n",
       "      <td>0</td>\n",
       "      <td>0</td>\n",
       "    </tr>\n",
       "    <tr>\n",
       "      <th>4</th>\n",
       "      <td>0</td>\n",
       "      <td>0</td>\n",
       "      <td>1</td>\n",
       "    </tr>\n",
       "    <tr>\n",
       "      <th>...</th>\n",
       "      <td>...</td>\n",
       "      <td>...</td>\n",
       "      <td>...</td>\n",
       "    </tr>\n",
       "    <tr>\n",
       "      <th>3127</th>\n",
       "      <td>0</td>\n",
       "      <td>0</td>\n",
       "      <td>1</td>\n",
       "    </tr>\n",
       "    <tr>\n",
       "      <th>3128</th>\n",
       "      <td>0</td>\n",
       "      <td>1</td>\n",
       "      <td>0</td>\n",
       "    </tr>\n",
       "    <tr>\n",
       "      <th>3129</th>\n",
       "      <td>0</td>\n",
       "      <td>0</td>\n",
       "      <td>1</td>\n",
       "    </tr>\n",
       "    <tr>\n",
       "      <th>3130</th>\n",
       "      <td>0</td>\n",
       "      <td>0</td>\n",
       "      <td>1</td>\n",
       "    </tr>\n",
       "    <tr>\n",
       "      <th>3131</th>\n",
       "      <td>1</td>\n",
       "      <td>0</td>\n",
       "      <td>0</td>\n",
       "    </tr>\n",
       "  </tbody>\n",
       "</table>\n",
       "<p>3132 rows × 3 columns</p>\n",
       "</div>"
      ],
      "text/plain": [
       "      Gender_F  Gender_I  Gender_M\n",
       "0            1         0         0\n",
       "1            1         0         0\n",
       "2            0         0         1\n",
       "3            1         0         0\n",
       "4            0         0         1\n",
       "...        ...       ...       ...\n",
       "3127         0         0         1\n",
       "3128         0         1         0\n",
       "3129         0         0         1\n",
       "3130         0         0         1\n",
       "3131         1         0         0\n",
       "\n",
       "[3132 rows x 3 columns]"
      ]
     },
     "execution_count": 9,
     "metadata": {},
     "output_type": "execute_result"
    }
   ],
   "source": [
    "gender_cat_to_num_data = pd.get_dummies(abalone_data.Sex,prefix='Gender')\n",
    "gender_cat_to_num_data"
   ]
  },
  {
   "cell_type": "code",
   "execution_count": 11,
   "metadata": {},
   "outputs": [],
   "source": [
    "\n",
    "abalone_data['is_Female'] = gender_cat_to_num_data['Gender_F']\n",
    "abalone_data['is_Male'] = gender_cat_to_num_data['Gender_M']\n",
    "abalone_data['is_Infant'] = gender_cat_to_num_data['Gender_I']"
   ]
  },
  {
   "cell_type": "code",
   "execution_count": 69,
   "metadata": {},
   "outputs": [
    {
     "name": "stderr",
     "output_type": "stream",
     "text": [
      "C:\\Users\\hp\\anaconda3\\lib\\site-packages\\seaborn\\axisgrid.py:1848: UserWarning: JointGrid annotation is deprecated and will be removed in a future release.\n",
      "  warnings.warn(UserWarning(msg))\n"
     ]
    },
    {
     "data": {
      "image/png": "[encoded data removed]",
      "text/plain": [
       "<Figure size 432x432 with 3 Axes>"
      ]
     },
     "metadata": {
      "needs_background": "light"
     },
     "output_type": "display_data"
    }
   ],
   "source": [
    "from scipy import stats\n",
    "j = sns.jointplot(\"Height\", \"Length\", data = abalone_data, kind = 'reg')\n",
    "j.annotate(stats.pearsonr)\n",
    "plt.show()"
   ]
  },
  {
   "cell_type": "markdown",
   "metadata": {},
   "source": [
    "# Checking the variation Inflation Factor \n",
    "\n"
   ]
  },
  {
   "cell_type": "code",
   "execution_count": null,
   "metadata": {},
   "outputs": [],
   "source": [
    "X1 = sm.tools.add_constant(abalone_data)\n",
    "\n",
    "\n",
    "\n",
    "# create the series for both\n",
    "series_before = pd.Series([variance_inflation_factor(X1.values, i) for i in range(X1.shape[1])], index=X1.columns)\n",
    "\n",
    "\n",
    "# display the series\n",
    "print('DATA BEFORE')\n",
    "print('-'*100)\n",
    "display(series_before)"
   ]
  },
  {
   "cell_type": "code",
   "execution_count": 22,
   "metadata": {},
   "outputs": [
    {
     "data": {
      "text/html": [
       "<div>\n",
       "<style scoped>\n",
       "    .dataframe tbody tr th:only-of-type {\n",
       "        vertical-align: middle;\n",
       "    }\n",
       "\n",
       "    .dataframe tbody tr th {\n",
       "        vertical-align: top;\n",
       "    }\n",
       "\n",
       "    .dataframe thead th {\n",
       "        text-align: right;\n",
       "    }\n",
       "</style>\n",
       "<table border=\"1\" class=\"dataframe\">\n",
       "  <thead>\n",
       "    <tr style=\"text-align: right;\">\n",
       "      <th></th>\n",
       "      <th>Length</th>\n",
       "      <th>Diameter</th>\n",
       "      <th>Height</th>\n",
       "      <th>Whole weight</th>\n",
       "      <th>Shucked weight</th>\n",
       "      <th>Viscera weight</th>\n",
       "      <th>Shell weight</th>\n",
       "      <th>Rings</th>\n",
       "      <th>is_Female</th>\n",
       "      <th>is_Male</th>\n",
       "      <th>is_Infant</th>\n",
       "    </tr>\n",
       "  </thead>\n",
       "  <tbody>\n",
       "    <tr>\n",
       "      <th>count</th>\n",
       "      <td>3132.000000</td>\n",
       "      <td>3132.000000</td>\n",
       "      <td>3132.000000</td>\n",
       "      <td>3132.000000</td>\n",
       "      <td>3132.000000</td>\n",
       "      <td>3132.000000</td>\n",
       "      <td>3132.000000</td>\n",
       "      <td>3132.000000</td>\n",
       "      <td>3132.000000</td>\n",
       "      <td>3132.000000</td>\n",
       "      <td>3132.000000</td>\n",
       "    </tr>\n",
       "    <tr>\n",
       "      <th>mean</th>\n",
       "      <td>0.523707</td>\n",
       "      <td>0.407952</td>\n",
       "      <td>0.139277</td>\n",
       "      <td>0.828670</td>\n",
       "      <td>0.359229</td>\n",
       "      <td>0.180731</td>\n",
       "      <td>0.239159</td>\n",
       "      <td>9.947957</td>\n",
       "      <td>0.313218</td>\n",
       "      <td>0.363346</td>\n",
       "      <td>0.323436</td>\n",
       "    </tr>\n",
       "    <tr>\n",
       "      <th>std</th>\n",
       "      <td>0.119891</td>\n",
       "      <td>0.099336</td>\n",
       "      <td>0.038991</td>\n",
       "      <td>0.490630</td>\n",
       "      <td>0.221946</td>\n",
       "      <td>0.109924</td>\n",
       "      <td>0.139040</td>\n",
       "      <td>3.230252</td>\n",
       "      <td>0.463876</td>\n",
       "      <td>0.481040</td>\n",
       "      <td>0.467862</td>\n",
       "    </tr>\n",
       "    <tr>\n",
       "      <th>min</th>\n",
       "      <td>0.110000</td>\n",
       "      <td>0.090000</td>\n",
       "      <td>0.000000</td>\n",
       "      <td>0.008000</td>\n",
       "      <td>0.002500</td>\n",
       "      <td>0.000500</td>\n",
       "      <td>0.003000</td>\n",
       "      <td>2.000000</td>\n",
       "      <td>0.000000</td>\n",
       "      <td>0.000000</td>\n",
       "      <td>0.000000</td>\n",
       "    </tr>\n",
       "    <tr>\n",
       "      <th>25%</th>\n",
       "      <td>0.450000</td>\n",
       "      <td>0.350000</td>\n",
       "      <td>0.115000</td>\n",
       "      <td>0.441500</td>\n",
       "      <td>0.185375</td>\n",
       "      <td>0.093375</td>\n",
       "      <td>0.130000</td>\n",
       "      <td>8.000000</td>\n",
       "      <td>0.000000</td>\n",
       "      <td>0.000000</td>\n",
       "      <td>0.000000</td>\n",
       "    </tr>\n",
       "    <tr>\n",
       "      <th>50%</th>\n",
       "      <td>0.545000</td>\n",
       "      <td>0.425000</td>\n",
       "      <td>0.140000</td>\n",
       "      <td>0.799500</td>\n",
       "      <td>0.335500</td>\n",
       "      <td>0.170000</td>\n",
       "      <td>0.235000</td>\n",
       "      <td>10.000000</td>\n",
       "      <td>0.000000</td>\n",
       "      <td>0.000000</td>\n",
       "      <td>0.000000</td>\n",
       "    </tr>\n",
       "    <tr>\n",
       "      <th>75%</th>\n",
       "      <td>0.615000</td>\n",
       "      <td>0.480000</td>\n",
       "      <td>0.165000</td>\n",
       "      <td>1.153000</td>\n",
       "      <td>0.499500</td>\n",
       "      <td>0.252500</td>\n",
       "      <td>0.330000</td>\n",
       "      <td>11.000000</td>\n",
       "      <td>1.000000</td>\n",
       "      <td>1.000000</td>\n",
       "      <td>1.000000</td>\n",
       "    </tr>\n",
       "    <tr>\n",
       "      <th>max</th>\n",
       "      <td>0.815000</td>\n",
       "      <td>0.650000</td>\n",
       "      <td>0.515000</td>\n",
       "      <td>2.825500</td>\n",
       "      <td>1.488000</td>\n",
       "      <td>0.760000</td>\n",
       "      <td>1.005000</td>\n",
       "      <td>29.000000</td>\n",
       "      <td>1.000000</td>\n",
       "      <td>1.000000</td>\n",
       "      <td>1.000000</td>\n",
       "    </tr>\n",
       "    <tr>\n",
       "      <th>+3_std</th>\n",
       "      <td>0.883381</td>\n",
       "      <td>0.705961</td>\n",
       "      <td>0.256250</td>\n",
       "      <td>2.300561</td>\n",
       "      <td>1.025066</td>\n",
       "      <td>0.510502</td>\n",
       "      <td>0.656280</td>\n",
       "      <td>19.638714</td>\n",
       "      <td>1.704848</td>\n",
       "      <td>1.806466</td>\n",
       "      <td>1.727022</td>\n",
       "    </tr>\n",
       "    <tr>\n",
       "      <th>-3_std</th>\n",
       "      <td>0.164033</td>\n",
       "      <td>0.109943</td>\n",
       "      <td>0.022303</td>\n",
       "      <td>-0.643221</td>\n",
       "      <td>-0.306609</td>\n",
       "      <td>-0.149040</td>\n",
       "      <td>-0.177962</td>\n",
       "      <td>0.257199</td>\n",
       "      <td>-1.078411</td>\n",
       "      <td>-1.079774</td>\n",
       "      <td>-1.080151</td>\n",
       "    </tr>\n",
       "  </tbody>\n",
       "</table>\n",
       "</div>"
      ],
      "text/plain": [
       "             Length     Diameter       Height  Whole weight  Shucked weight  \\\n",
       "count   3132.000000  3132.000000  3132.000000   3132.000000     3132.000000   \n",
       "mean       0.523707     0.407952     0.139277      0.828670        0.359229   \n",
       "std        0.119891     0.099336     0.038991      0.490630        0.221946   \n",
       "min        0.110000     0.090000     0.000000      0.008000        0.002500   \n",
       "25%        0.450000     0.350000     0.115000      0.441500        0.185375   \n",
       "50%        0.545000     0.425000     0.140000      0.799500        0.335500   \n",
       "75%        0.615000     0.480000     0.165000      1.153000        0.499500   \n",
       "max        0.815000     0.650000     0.515000      2.825500        1.488000   \n",
       "+3_std     0.883381     0.705961     0.256250      2.300561        1.025066   \n",
       "-3_std     0.164033     0.109943     0.022303     -0.643221       -0.306609   \n",
       "\n",
       "        Viscera weight  Shell weight        Rings    is_Female      is_Male  \\\n",
       "count      3132.000000   3132.000000  3132.000000  3132.000000  3132.000000   \n",
       "mean          0.180731      0.239159     9.947957     0.313218     0.363346   \n",
       "std           0.109924      0.139040     3.230252     0.463876     0.481040   \n",
       "min           0.000500      0.003000     2.000000     0.000000     0.000000   \n",
       "25%           0.093375      0.130000     8.000000     0.000000     0.000000   \n",
       "50%           0.170000      0.235000    10.000000     0.000000     0.000000   \n",
       "75%           0.252500      0.330000    11.000000     1.000000     1.000000   \n",
       "max           0.760000      1.005000    29.000000     1.000000     1.000000   \n",
       "+3_std        0.510502      0.656280    19.638714     1.704848     1.806466   \n",
       "-3_std       -0.149040     -0.177962     0.257199    -1.078411    -1.079774   \n",
       "\n",
       "          is_Infant  \n",
       "count   3132.000000  \n",
       "mean       0.323436  \n",
       "std        0.467862  \n",
       "min        0.000000  \n",
       "25%        0.000000  \n",
       "50%        0.000000  \n",
       "75%        1.000000  \n",
       "max        1.000000  \n",
       "+3_std     1.727022  \n",
       "-3_std    -1.080151  "
      ]
     },
     "execution_count": 22,
     "metadata": {},
     "output_type": "execute_result"
    }
   ],
   "source": [
    "# get the summary\n",
    "desc_df = abalone_data.describe()\n",
    "\n",
    "# add the standard deviation metric\n",
    "desc_df.loc['+3_std'] = desc_df.loc['mean'] + (desc_df.loc['std'] * 3)\n",
    "desc_df.loc['-3_std'] = desc_df.loc['mean'] - (desc_df.loc['std'] * 3)\n",
    "\n",
    "# display it\n",
    "desc_df\n"
   ]
  },
  {
   "cell_type": "code",
   "execution_count": 41,
   "metadata": {},
   "outputs": [],
   "source": [
    "\n",
    "#train_data = train_data.drop('Sex',axis=1)\n",
    "\n",
    "\n",
    "\n",
    "train_features,validation_features,train_target,validation_target = train_test_split(features,target,test_size=0.20,random_state=1)\n",
    "\n",
    "\n"
   ]
  },
  {
   "cell_type": "code",
   "execution_count": 40,
   "metadata": {},
   "outputs": [
    {
     "data": {
      "text/html": [
       "<div>\n",
       "<style scoped>\n",
       "    .dataframe tbody tr th:only-of-type {\n",
       "        vertical-align: middle;\n",
       "    }\n",
       "\n",
       "    .dataframe tbody tr th {\n",
       "        vertical-align: top;\n",
       "    }\n",
       "\n",
       "    .dataframe thead th {\n",
       "        text-align: right;\n",
       "    }\n",
       "</style>\n",
       "<table border=\"1\" class=\"dataframe\">\n",
       "  <thead>\n",
       "    <tr style=\"text-align: right;\">\n",
       "      <th></th>\n",
       "      <th>Length</th>\n",
       "      <th>Diameter</th>\n",
       "      <th>Height</th>\n",
       "      <th>Whole weight</th>\n",
       "      <th>Shucked weight</th>\n",
       "      <th>Viscera weight</th>\n",
       "      <th>Shell weight</th>\n",
       "      <th>is_Female</th>\n",
       "      <th>is_Male</th>\n",
       "      <th>is_Infant</th>\n",
       "    </tr>\n",
       "  </thead>\n",
       "  <tbody>\n",
       "    <tr>\n",
       "      <th>0</th>\n",
       "      <td>0.525</td>\n",
       "      <td>0.400</td>\n",
       "      <td>0.135</td>\n",
       "      <td>0.7140</td>\n",
       "      <td>0.3180</td>\n",
       "      <td>0.1380</td>\n",
       "      <td>0.2080</td>\n",
       "      <td>1</td>\n",
       "      <td>0</td>\n",
       "      <td>0</td>\n",
       "    </tr>\n",
       "    <tr>\n",
       "      <th>1</th>\n",
       "      <td>0.445</td>\n",
       "      <td>0.325</td>\n",
       "      <td>0.125</td>\n",
       "      <td>0.4550</td>\n",
       "      <td>0.1785</td>\n",
       "      <td>0.1125</td>\n",
       "      <td>0.1400</td>\n",
       "      <td>1</td>\n",
       "      <td>0</td>\n",
       "      <td>0</td>\n",
       "    </tr>\n",
       "    <tr>\n",
       "      <th>2</th>\n",
       "      <td>0.710</td>\n",
       "      <td>0.540</td>\n",
       "      <td>0.165</td>\n",
       "      <td>1.9590</td>\n",
       "      <td>0.7665</td>\n",
       "      <td>0.2610</td>\n",
       "      <td>0.7800</td>\n",
       "      <td>0</td>\n",
       "      <td>1</td>\n",
       "      <td>0</td>\n",
       "    </tr>\n",
       "    <tr>\n",
       "      <th>3</th>\n",
       "      <td>0.680</td>\n",
       "      <td>0.580</td>\n",
       "      <td>0.200</td>\n",
       "      <td>1.7870</td>\n",
       "      <td>0.5850</td>\n",
       "      <td>0.4530</td>\n",
       "      <td>0.6000</td>\n",
       "      <td>1</td>\n",
       "      <td>0</td>\n",
       "      <td>0</td>\n",
       "    </tr>\n",
       "    <tr>\n",
       "      <th>4</th>\n",
       "      <td>0.605</td>\n",
       "      <td>0.470</td>\n",
       "      <td>0.160</td>\n",
       "      <td>1.1735</td>\n",
       "      <td>0.4975</td>\n",
       "      <td>0.2405</td>\n",
       "      <td>0.3450</td>\n",
       "      <td>0</td>\n",
       "      <td>1</td>\n",
       "      <td>0</td>\n",
       "    </tr>\n",
       "    <tr>\n",
       "      <th>...</th>\n",
       "      <td>...</td>\n",
       "      <td>...</td>\n",
       "      <td>...</td>\n",
       "      <td>...</td>\n",
       "      <td>...</td>\n",
       "      <td>...</td>\n",
       "      <td>...</td>\n",
       "      <td>...</td>\n",
       "      <td>...</td>\n",
       "      <td>...</td>\n",
       "    </tr>\n",
       "    <tr>\n",
       "      <th>3127</th>\n",
       "      <td>0.415</td>\n",
       "      <td>0.315</td>\n",
       "      <td>0.120</td>\n",
       "      <td>0.4015</td>\n",
       "      <td>0.1990</td>\n",
       "      <td>0.0870</td>\n",
       "      <td>0.0970</td>\n",
       "      <td>0</td>\n",
       "      <td>1</td>\n",
       "      <td>0</td>\n",
       "    </tr>\n",
       "    <tr>\n",
       "      <th>3128</th>\n",
       "      <td>0.325</td>\n",
       "      <td>0.240</td>\n",
       "      <td>0.070</td>\n",
       "      <td>0.1520</td>\n",
       "      <td>0.0565</td>\n",
       "      <td>0.0305</td>\n",
       "      <td>0.0540</td>\n",
       "      <td>0</td>\n",
       "      <td>0</td>\n",
       "      <td>1</td>\n",
       "    </tr>\n",
       "    <tr>\n",
       "      <th>3129</th>\n",
       "      <td>0.565</td>\n",
       "      <td>0.455</td>\n",
       "      <td>0.155</td>\n",
       "      <td>0.9355</td>\n",
       "      <td>0.4210</td>\n",
       "      <td>0.1830</td>\n",
       "      <td>0.2600</td>\n",
       "      <td>0</td>\n",
       "      <td>1</td>\n",
       "      <td>0</td>\n",
       "    </tr>\n",
       "    <tr>\n",
       "      <th>3130</th>\n",
       "      <td>0.610</td>\n",
       "      <td>0.485</td>\n",
       "      <td>0.145</td>\n",
       "      <td>1.3305</td>\n",
       "      <td>0.7830</td>\n",
       "      <td>0.2255</td>\n",
       "      <td>0.2865</td>\n",
       "      <td>0</td>\n",
       "      <td>1</td>\n",
       "      <td>0</td>\n",
       "    </tr>\n",
       "    <tr>\n",
       "      <th>3131</th>\n",
       "      <td>0.655</td>\n",
       "      <td>0.505</td>\n",
       "      <td>0.190</td>\n",
       "      <td>1.3485</td>\n",
       "      <td>0.5935</td>\n",
       "      <td>0.2745</td>\n",
       "      <td>0.4250</td>\n",
       "      <td>1</td>\n",
       "      <td>0</td>\n",
       "      <td>0</td>\n",
       "    </tr>\n",
       "  </tbody>\n",
       "</table>\n",
       "<p>3132 rows × 10 columns</p>\n",
       "</div>"
      ],
      "text/plain": [
       "      Length  Diameter  Height  Whole weight  Shucked weight  Viscera weight  \\\n",
       "0      0.525     0.400   0.135        0.7140          0.3180          0.1380   \n",
       "1      0.445     0.325   0.125        0.4550          0.1785          0.1125   \n",
       "2      0.710     0.540   0.165        1.9590          0.7665          0.2610   \n",
       "3      0.680     0.580   0.200        1.7870          0.5850          0.4530   \n",
       "4      0.605     0.470   0.160        1.1735          0.4975          0.2405   \n",
       "...      ...       ...     ...           ...             ...             ...   \n",
       "3127   0.415     0.315   0.120        0.4015          0.1990          0.0870   \n",
       "3128   0.325     0.240   0.070        0.1520          0.0565          0.0305   \n",
       "3129   0.565     0.455   0.155        0.9355          0.4210          0.1830   \n",
       "3130   0.610     0.485   0.145        1.3305          0.7830          0.2255   \n",
       "3131   0.655     0.505   0.190        1.3485          0.5935          0.2745   \n",
       "\n",
       "      Shell weight  is_Female  is_Male  is_Infant  \n",
       "0           0.2080          1        0          0  \n",
       "1           0.1400          1        0          0  \n",
       "2           0.7800          0        1          0  \n",
       "3           0.6000          1        0          0  \n",
       "4           0.3450          0        1          0  \n",
       "...            ...        ...      ...        ...  \n",
       "3127        0.0970          0        1          0  \n",
       "3128        0.0540          0        0          1  \n",
       "3129        0.2600          0        1          0  \n",
       "3130        0.2865          0        1          0  \n",
       "3131        0.4250          1        0          0  \n",
       "\n",
       "[3132 rows x 10 columns]"
      ]
     },
     "execution_count": 40,
     "metadata": {},
     "output_type": "execute_result"
    }
   ],
   "source": []
  },
  {
   "cell_type": "code",
   "execution_count": 42,
   "metadata": {},
   "outputs": [
    {
     "data": {
      "text/plain": [
       "LinearRegression()"
      ]
     },
     "execution_count": 42,
     "metadata": {},
     "output_type": "execute_result"
    }
   ],
   "source": [
    "model_LR = LinearRegression(normalize = False)\n",
    "model_LR.fit(train_features, train_target)"
   ]
  },
  {
   "cell_type": "code",
   "execution_count": 43,
   "metadata": {},
   "outputs": [
    {
     "name": "stdout",
     "output_type": "stream",
     "text": [
      "Model intercept  :  3.6186009190637627 \n",
      "\n",
      "Model coefficient:  [ -0.13347362   7.95570266  19.74265921  11.66761401 -22.6006023\n",
      " -13.01663325   5.10020825   0.20955043   0.32953324  -0.53908367] \n",
      "\n",
      "Length :  -0.13347361871711674\n",
      "Diameter :  7.955702655802082\n",
      "Height :  19.74265920570537\n",
      "Whole weight :  11.667614014086036\n",
      "Shucked weight :  -22.600602299421315\n",
      "Viscera weight :  -13.01663324642201\n",
      "Shell weight :  5.100208253956415\n",
      "is_Female :  0.20955042710652322\n",
      "is_Male :  0.32953324298799896\n",
      "is_Infant :  -0.5390836700944702\n"
     ]
    }
   ],
   "source": [
    "\n",
    "print(\"Model intercept  : \", model_LR.intercept_, \"\\n\")\n",
    "print(\"Model coefficient: \", model_LR.coef_, \"\\n\")\n",
    "\n",
    "for i in range(len(train_features.columns)):\n",
    "    print(train_features.columns[i], \": \", model_LR.coef_[i])"
   ]
  },
  {
   "cell_type": "code",
   "execution_count": 71,
   "metadata": {},
   "outputs": [
    {
     "data": {
      "image/png": "[encoded data removed]",
      "text/plain": [
       "<Figure size 1080x720 with 1 Axes>"
      ]
     },
     "metadata": {
      "needs_background": "light"
     },
     "output_type": "display_data"
    }
   ],
   "source": [
    "plt.figure(figsize=(15,10))\n",
    "important_coeff = pd.Series(model_LR.coef_,index=train_features.columns)\n",
    "important_coeff.plot(kind='barh')\n",
    "plt.show()"
   ]
  },
  {
   "cell_type": "code",
   "execution_count": 62,
   "metadata": {},
   "outputs": [
    {
     "name": "stdout",
     "output_type": "stream",
     "text": [
      "      Rings  Predicted  Difference\n",
      "1363     13  13.290531    0.290531\n",
      "937      12   9.006230   -2.993770\n",
      "1777     11  11.950652    0.950652\n",
      "3015      7   7.659879    0.659879\n",
      "2138     10  10.651483    0.651483\n",
      "2132     11   9.662715   -1.337285\n",
      "1421      6   5.753833   -0.246167\n",
      "1690      9   9.558854    0.558854\n",
      "2952      5   5.747630    0.747630\n",
      "1228      9  11.805850    2.805850 \n",
      "\n",
      "Linear Regression Model training performance:\n",
      "---------------------------\n",
      "RMSE is 2.1694588707259412\n",
      "--------------------------\n",
      "MAE is 1.5629206465001526\n"
     ]
    }
   ],
   "source": [
    "\n",
    "# Model evaluation for training set\n",
    "train_target_pred = model_LR.predict(train_features)\n",
    "rmse = (np.sqrt(mean_squared_error(train_target, train_target_pred)))\n",
    "model_mae = mean_absolute_error(train_target, train_target_pred)\n",
    "\n",
    "# Examine the first 10 predicted output from the model\n",
    "output = pd.DataFrame(train_target[0:10])\n",
    "output['Predicted'] = train_target_pred[0:10]\n",
    "output['Difference'] = output['Predicted'] - output['Rings']\n",
    "print(output, \"\\n\")\n",
    "\n",
    "print(\"Linear Regression Model training performance:\")\n",
    "print(\"---------------------------\")\n",
    "print('RMSE is {}'.format(rmse))\n",
    "print(\"--------------------------\")\n",
    "print('MAE is {}'.format(model_mae))\n"
   ]
  },
  {
   "cell_type": "code",
   "execution_count": 51,
   "metadata": {},
   "outputs": [
    {
     "data": {
      "image/png": "[encoded data removed]",
      "text/plain": [
       "<Figure size 432x180 with 1 Axes>"
      ]
     },
     "metadata": {
      "needs_background": "light"
     },
     "output_type": "display_data"
    }
   ],
   "source": [
    "\n",
    "output_full = pd.DataFrame(train_target)\n",
    "output_full['Predicted'] = train_target_pred\n",
    "output_full['Difference'] = output_full['Predicted'] - output_full['Rings']\n",
    "    \n",
    "fig, ax = plt.subplots(figsize=(6,2.5))\n",
    "_ = ax.scatter(output_full['Difference'],  output_full['Predicted'])\n",
    "\n",
    "\n"
   ]
  },
  {
   "cell_type": "markdown",
   "metadata": {},
   "source": [
    "It seems like the corresponding residual plot is reasonably random. To confirm that, let’s go with a hypothesis test, \n",
    "Harvey-Collier multiplier test, for linearity"
   ]
  },
  {
   "cell_type": "code",
   "execution_count": 52,
   "metadata": {},
   "outputs": [
    {
     "data": {
      "text/plain": [
       "0.9269332746548816"
      ]
     },
     "execution_count": 52,
     "metadata": {},
     "output_type": "execute_result"
    },
    {
     "data": {
      "image/png": "[encoded data removed]",
      "text/plain": [
       "<Figure size 432x180 with 1 Axes>"
      ]
     },
     "metadata": {
      "needs_background": "light"
     },
     "output_type": "display_data"
    }
   ],
   "source": [
    "import scipy as sp\n",
    "fig, ax = plt.subplots(figsize=(6,2.5))\n",
    "_, (__, ___, r) = sp.stats.probplot(output_full['Difference'], plot=ax, fit=True)\n",
    "r**2"
   ]
  },
  {
   "cell_type": "markdown",
   "metadata": {},
   "source": [
    "The good fit indicates that normality is a reasonable approximation."
   ]
  },
  {
   "cell_type": "code",
   "execution_count": 54,
   "metadata": {},
   "outputs": [],
   "source": [
    "from sklearn.model_selection import cross_val_score"
   ]
  },
  {
   "cell_type": "code",
   "execution_count": 56,
   "metadata": {},
   "outputs": [
    {
     "name": "stdout",
     "output_type": "stream",
     "text": [
      "Linear Regression Model Cross Validation Training Set performance:\n",
      "---------------------------\n",
      "MSE_CV_scores [4.63488404 4.88391585 4.99230149 4.13222289 5.34918584]\n",
      "RMSE is 2.1905483380895454\n",
      "--------------------------\n"
     ]
    }
   ],
   "source": [
    "\n",
    "MSE_CV_scores = -1*(cross_val_score(model_LR,train_features,train_target,cv=5,scoring='neg_mean_squared_error',n_jobs = -1))\n",
    "\n",
    "RMSE_CV = ( MSE_CV_scores.mean() ) ** (1/2)\n",
    "\n",
    "print(\"Linear Regression Model Cross Validation Training Set performance:\")\n",
    "print(\"---------------------------\")\n",
    "\n",
    "print ('MSE_CV_scores {}'.format(MSE_CV_scores))\n",
    "print('RMSE is {}'.format(RMSE_CV))\n",
    "print(\"--------------------------\")"
   ]
  },
  {
   "cell_type": "code",
   "execution_count": 57,
   "metadata": {},
   "outputs": [
    {
     "name": "stdout",
     "output_type": "stream",
     "text": [
      "      Rings  Predicted  Difference\n",
      "3116     10  11.461085    1.461085\n",
      "110      15  11.908122   -3.091878\n",
      "2845      9   7.905424   -1.094576\n",
      "517       7   6.791044   -0.208956\n",
      "340       9   9.524055    0.524055\n",
      "1047      4   7.657453    3.657453\n",
      "1856      8   8.573165    0.573165\n",
      "1668     11  10.705999   -0.294001\n",
      "2455      5   5.202307    0.202307\n",
      "2338      9  10.386124    1.386124 \n",
      "\n",
      "Linear Regression Model test performance:\n",
      "---------------------------\n",
      "RMSE is 2.253158819453463\n",
      "--------------------------\n"
     ]
    }
   ],
   "source": [
    "# Model evaluation for testing set\n",
    "validation_target_pred = model_LR.predict(validation_features)\n",
    "rmse = (np.sqrt(mean_squared_error(validation_target, validation_target_pred)))\n",
    "\n",
    "# Examine the first 10 predicted output from the model\n",
    "output = pd.DataFrame(validation_target[0:10])\n",
    "output['Predicted'] = validation_target_pred[0:10]\n",
    "output['Difference'] = output['Predicted'] - output['Rings']\n",
    "print(output, \"\\n\")\n",
    "\n",
    "print(\"Linear Regression Model test performance:\")\n",
    "print(\"---------------------------\")\n",
    "print('RMSE is {}'.format(rmse))\n",
    "print(\"--------------------------\")"
   ]
  },
  {
   "cell_type": "markdown",
   "metadata": {},
   "source": [
    "Ridge Regression\n",
    "\n",
    "Tried to reduce the magnitude of model intercept and coefficients using this ML Model¶"
   ]
  },
  {
   "cell_type": "code",
   "execution_count": null,
   "metadata": {},
   "outputs": [],
   "source": [
    "plt.plot(rr.coef_,alpha=0.7,linestyle='none',marker='*',markersize=5,color='red',label=r'Ridge; $\\alpha = 0.01$',zorder=7) # zorder for ordering the markers\n",
    "plt.plot(rr100.coef_,alpha=0.5,linestyle='none',marker='d',markersize=6,color='blue',label=r'Ridge; $\\alpha = 100$') # alpha here is for transparency\n",
    "plt.plot(lr.coef_,alpha=0.4,linestyle='none',marker='o',markersize=7,color='green',label='Linear Regression')\n",
    "plt.xlabel('Coefficient Index',fontsize=16)\n",
    "plt.ylabel('Coefficient Magnitude',fontsize=16)\n",
    "plt.legend(fontsize=13,loc=4)\n",
    "plt.show()"
   ]
  },
  {
   "cell_type": "code",
   "execution_count": 75,
   "metadata": {},
   "outputs": [
    {
     "data": {
      "text/plain": [
       "RidgeCV(alphas=array([5.00000000e+09, 3.78231664e+09, 2.86118383e+09, 2.16438064e+09,\n",
       "       1.63727458e+09, 1.23853818e+09, 9.36908711e+08, 7.08737081e+08,\n",
       "       5.36133611e+08, 4.05565415e+08, 3.06795364e+08, 2.32079442e+08,\n",
       "       1.75559587e+08, 1.32804389e+08, 1.00461650e+08, 7.59955541e+07,\n",
       "       5.74878498e+07, 4.34874501e+07, 3.28966612e+07, 2.48851178e+07,\n",
       "       1.88246790e+07, 1.42401793e+0...\n",
       "       3.06795364e+00, 2.32079442e+00, 1.75559587e+00, 1.32804389e+00,\n",
       "       1.00461650e+00, 7.59955541e-01, 5.74878498e-01, 4.34874501e-01,\n",
       "       3.28966612e-01, 2.48851178e-01, 1.88246790e-01, 1.42401793e-01,\n",
       "       1.07721735e-01, 8.14875417e-02, 6.16423370e-02, 4.66301673e-02,\n",
       "       3.52740116e-02, 2.66834962e-02, 2.01850863e-02, 1.52692775e-02,\n",
       "       1.15506485e-02, 8.73764200e-03, 6.60970574e-03, 5.00000000e-03]),\n",
       "        scoring='neg_mean_squared_error')"
      ]
     },
     "execution_count": 75,
     "metadata": {},
     "output_type": "execute_result"
    }
   ],
   "source": [
    "from sklearn.linear_model import Ridge,RidgeCV\n",
    "alphas = 10**np.linspace(10,-2,100)*0.5\n",
    "alphas\n",
    "ridgecv = RidgeCV(alphas = alphas, scoring = 'neg_mean_squared_error', normalize = False)\n",
    "ridgecv.fit(train_features, train_target)"
   ]
  },
  {
   "cell_type": "code",
   "execution_count": 76,
   "metadata": {},
   "outputs": [
    {
     "data": {
      "text/plain": [
       "0.06164233697210317"
      ]
     },
     "execution_count": 76,
     "metadata": {},
     "output_type": "execute_result"
    }
   ],
   "source": [
    "\n",
    "ridgecv.alpha_"
   ]
  },
  {
   "cell_type": "code",
   "execution_count": 77,
   "metadata": {},
   "outputs": [
    {
     "data": {
      "text/plain": [
       "Ridge(alpha=0.06164233697210317)"
      ]
     },
     "execution_count": 77,
     "metadata": {},
     "output_type": "execute_result"
    }
   ],
   "source": [
    "\n",
    "model_RR = Ridge(alpha=0.06164233697210317,normalize = False)\n",
    "model_RR.fit(train_features, train_target)"
   ]
  },
  {
   "cell_type": "code",
   "execution_count": 79,
   "metadata": {},
   "outputs": [
    {
     "name": "stdout",
     "output_type": "stream",
     "text": [
      "Model intercept  :  3.6902164908729365 \n",
      "\n",
      "Model coefficient:  [  0.36629293   7.57483816  17.94977816  11.20930225 -22.15012189\n",
      " -12.27966224   5.75381477   0.21506447   0.33149812  -0.5465626 ] \n",
      "\n",
      "Length :  0.3662929290289876\n",
      "Diameter :  7.574838155146852\n",
      "Height :  17.94977815986285\n",
      "Whole weight :  11.209302249372605\n",
      "Shucked weight :  -22.150121886966886\n",
      "Viscera weight :  -12.279662238230927\n",
      "Shell weight :  5.753814765938526\n",
      "is_Female :  0.21506447384322985\n",
      "is_Male :  0.33149812317183863\n",
      "is_Infant :  -0.546562597059097\n"
     ]
    }
   ],
   "source": [
    "\n",
    "print(\"Model intercept  : \", model_RR.intercept_, \"\\n\")\n",
    "print(\"Model coefficient: \", model_RR.coef_, \"\\n\")\n",
    "\n",
    "for i in range(len(train_features.columns)):\n",
    "    print(train_features.columns[i], \": \", model_RR.coef_[i])"
   ]
  },
  {
   "cell_type": "code",
   "execution_count": 80,
   "metadata": {},
   "outputs": [
    {
     "data": {
      "image/png": "[encoded data removed]",
      "text/plain": [
       "<Figure size 1080x720 with 1 Axes>"
      ]
     },
     "metadata": {
      "needs_background": "light"
     },
     "output_type": "display_data"
    }
   ],
   "source": [
    "plt.figure(figsize=(15,10))\n",
    "important_coeff_ridge = pd.Series(model_RR.coef_,index=train_features.columns)\n",
    "important_coeff_ridge.plot(kind='barh')\n",
    "plt.show()"
   ]
  },
  {
   "cell_type": "code",
   "execution_count": 81,
   "metadata": {},
   "outputs": [
    {
     "name": "stdout",
     "output_type": "stream",
     "text": [
      "      Rings  Predicted  Difference\n",
      "1363     13  13.236550    0.236550\n",
      "937      12   9.071415   -2.928585\n",
      "1777     11  11.951932    0.951932\n",
      "3015      7   7.650184    0.650184\n",
      "2138     10  10.649058    0.649058\n",
      "2132     11   9.640526   -1.359474\n",
      "1421      6   5.774369   -0.225631\n",
      "1690      9   9.539803    0.539803\n",
      "2952      5   5.767794    0.767794\n",
      "1228      9  11.822052    2.822052 \n",
      "\n",
      "Ridge Regression Model training performance:\n",
      "---------------------------\n",
      "RMSE is 2.1697723764017005\n",
      "--------------------------\n"
     ]
    }
   ],
   "source": [
    "\n",
    "# Model evaluation for training set\n",
    "train_target_pred = model_RR.predict(train_features)\n",
    "rmse = np.sqrt(mean_squared_error(train_target, train_target_pred))\n",
    "\n",
    "# Examine the first 10 predicted output from the model\n",
    "output = pd.DataFrame(train_target[0:10])\n",
    "output['Predicted'] = train_target_pred[0:10]\n",
    "output['Difference'] = output['Predicted'] - output['Rings']\n",
    "print(output, \"\\n\")\n",
    "\n",
    "print(\"Ridge Regression Model training performance:\")\n",
    "print(\"---------------------------\")\n",
    "print('RMSE is {}'.format(rmse))\n",
    "print(\"--------------------------\")"
   ]
  },
  {
   "cell_type": "code",
   "execution_count": 83,
   "metadata": {},
   "outputs": [
    {
     "name": "stdout",
     "output_type": "stream",
     "text": [
      "Ridge Regression Model Cross Validation Training Set performance:\n",
      "---------------------------\n",
      "RMSE is 2.1903896422669833\n",
      "--------------------------\n"
     ]
    }
   ],
   "source": [
    "\n",
    "MSE_CV_scores = -1*(cross_val_score(model_RR,train_features,train_target,cv=5,scoring='neg_mean_squared_error',n_jobs = -1))\n",
    "\n",
    "RMSE_CV = ( MSE_CV_scores.mean() ) ** (1/2)\n",
    "\n",
    "print(\"Ridge Regression Model Cross Validation Training Set performance:\")\n",
    "print(\"---------------------------\")\n",
    "print('RMSE is {}'.format(RMSE_CV))\n",
    "print(\"--------------------------\")"
   ]
  },
  {
   "cell_type": "code",
   "execution_count": 84,
   "metadata": {},
   "outputs": [
    {
     "name": "stdout",
     "output_type": "stream",
     "text": [
      "      Rings  Predicted  Difference\n",
      "3116     10  11.451508    1.451508\n",
      "110      15  11.840488   -3.159512\n",
      "2845      9   7.880139   -1.119861\n",
      "517       7   6.814121   -0.185879\n",
      "340       9   9.488956    0.488956\n",
      "1047      4   7.658626    3.658626\n",
      "1856      8   8.607124    0.607124\n",
      "1668     11  10.681699   -0.318301\n",
      "2455      5   5.252429    0.252429\n",
      "2338      9  10.416059    1.416059 \n",
      "\n",
      "Ridge Regression Model test performance:\n",
      "---------------------------\n",
      "RMSE is 2.2482657214285533\n",
      "--------------------------\n"
     ]
    }
   ],
   "source": [
    "# Model evaluation for testing set\n",
    "validation_target_pred = model_RR.predict(validation_features)\n",
    "rmse = (np.sqrt(mean_squared_error(validation_target, validation_target_pred)))\n",
    "\n",
    "# Examine the first 10 predicted output from the model\n",
    "output = pd.DataFrame(validation_target[0:10])\n",
    "output['Predicted'] = validation_target_pred[0:10]\n",
    "output['Difference'] = output['Predicted'] - output['Rings']\n",
    "print(output, \"\\n\")\n",
    "\n",
    "print(\"Ridge Regression Model test performance:\")\n",
    "print(\"---------------------------\")\n",
    "print('RMSE is {}'.format(rmse))\n",
    "print(\"--------------------------\")"
   ]
  },
  {
   "cell_type": "markdown",
   "metadata": {},
   "source": [
    "#  Lasso Regression\n",
    "To reduce the number of features in the Model¶"
   ]
  },
  {
   "cell_type": "code",
   "execution_count": 85,
   "metadata": {},
   "outputs": [],
   "source": [
    "\n",
    "from sklearn.linear_model import Lasso,LassoCV"
   ]
  },
  {
   "cell_type": "code",
   "execution_count": 86,
   "metadata": {},
   "outputs": [
    {
     "data": {
      "text/plain": [
       "LassoCV(alphas=array([5.00000000e+09, 3.78231664e+09, 2.86118383e+09, 2.16438064e+09,\n",
       "       1.63727458e+09, 1.23853818e+09, 9.36908711e+08, 7.08737081e+08,\n",
       "       5.36133611e+08, 4.05565415e+08, 3.06795364e+08, 2.32079442e+08,\n",
       "       1.75559587e+08, 1.32804389e+08, 1.00461650e+08, 7.59955541e+07,\n",
       "       5.74878498e+07, 4.34874501e+07, 3.28966612e+07, 2.48851178e+07,\n",
       "       1.88246790e+07, 1.42401793e+0...\n",
       "       3.06795364e+00, 2.32079442e+00, 1.75559587e+00, 1.32804389e+00,\n",
       "       1.00461650e+00, 7.59955541e-01, 5.74878498e-01, 4.34874501e-01,\n",
       "       3.28966612e-01, 2.48851178e-01, 1.88246790e-01, 1.42401793e-01,\n",
       "       1.07721735e-01, 8.14875417e-02, 6.16423370e-02, 4.66301673e-02,\n",
       "       3.52740116e-02, 2.66834962e-02, 2.01850863e-02, 1.52692775e-02,\n",
       "       1.15506485e-02, 8.73764200e-03, 6.60970574e-03, 5.00000000e-03]))"
      ]
     },
     "execution_count": 86,
     "metadata": {},
     "output_type": "execute_result"
    }
   ],
   "source": [
    "lassocv = LassoCV(alphas = alphas, normalize = False)\n",
    "lassocv.fit(train_features, train_target)"
   ]
  },
  {
   "cell_type": "code",
   "execution_count": 87,
   "metadata": {},
   "outputs": [
    {
     "data": {
      "text/plain": [
       "0.005"
      ]
     },
     "execution_count": 87,
     "metadata": {},
     "output_type": "execute_result"
    }
   ],
   "source": [
    "lassocv.alpha_"
   ]
  },
  {
   "cell_type": "code",
   "execution_count": 88,
   "metadata": {},
   "outputs": [
    {
     "data": {
      "text/plain": [
       "Lasso(alpha=0.005)"
      ]
     },
     "execution_count": 88,
     "metadata": {},
     "output_type": "execute_result"
    }
   ],
   "source": [
    "model_lasso = Lasso(alpha=0.005, normalize= False)\n",
    "model_lasso.fit(train_features,train_target)"
   ]
  },
  {
   "cell_type": "code",
   "execution_count": 89,
   "metadata": {},
   "outputs": [
    {
     "data": {
      "text/plain": [
       "553"
      ]
     },
     "execution_count": 89,
     "metadata": {},
     "output_type": "execute_result"
    }
   ],
   "source": [
    "model_lasso.n_iter_"
   ]
  },
  {
   "cell_type": "code",
   "execution_count": 90,
   "metadata": {},
   "outputs": [
    {
     "data": {
      "text/plain": [
       "8"
      ]
     },
     "execution_count": 90,
     "metadata": {},
     "output_type": "execute_result"
    }
   ],
   "source": [
    "\n",
    "coeff_used = np.sum(model_lasso.coef_!=0)\n",
    "coeff_used"
   ]
  },
  {
   "cell_type": "code",
   "execution_count": 91,
   "metadata": {},
   "outputs": [
    {
     "name": "stdout",
     "output_type": "stream",
     "text": [
      "Model intercept  :  5.288753522779095 \n",
      "\n",
      "Model coefficient:  [  0.           7.45322438   3.49498128   7.24880158 -18.20695732\n",
      "  -2.63358555  10.12932588  -0.           0.06289191  -0.87335587] \n",
      "\n",
      "Length :  0.0\n",
      "Diameter :  7.453224384062317\n",
      "Height :  3.4949812766705013\n",
      "Whole weight :  7.248801584970726\n",
      "Shucked weight :  -18.206957315794515\n",
      "Viscera weight :  -2.6335855487587763\n",
      "Shell weight :  10.129325878531823\n",
      "is_Female :  -0.0\n",
      "is_Male :  0.06289190723300077\n",
      "is_Infant :  -0.8733558658683491\n"
     ]
    }
   ],
   "source": [
    "print(\"Model intercept  : \", model_lasso.intercept_, \"\\n\")\n",
    "print(\"Model coefficient: \", model_lasso.coef_, \"\\n\")\n",
    "\n",
    "for i in range(len(train_features.columns)):\n",
    "    print(train_features.columns[i], \": \", model_lasso.coef_[i])\n",
    "    "
   ]
  },
  {
   "cell_type": "code",
   "execution_count": 92,
   "metadata": {},
   "outputs": [
    {
     "data": {
      "image/png": "[encoded data removed]",
      "text/plain": [
       "<Figure size 1080x720 with 1 Axes>"
      ]
     },
     "metadata": {
      "needs_background": "light"
     },
     "output_type": "display_data"
    }
   ],
   "source": [
    "plt.figure(figsize=(15,10))\n",
    "important_coeff_lasso = pd.Series(model_lasso.coef_,index=train_features.columns)\n",
    "important_coeff_lasso.plot(kind='barh')\n",
    "plt.show()"
   ]
  },
  {
   "cell_type": "code",
   "execution_count": 93,
   "metadata": {},
   "outputs": [
    {
     "name": "stdout",
     "output_type": "stream",
     "text": [
      "      Rings  Predicted  Difference\n",
      "1363     13  12.690931   -0.309069\n",
      "937      12   9.660371   -2.339629\n",
      "1777     11  12.027068    1.027068\n",
      "3015      7   7.632969    0.632969\n",
      "2138     10  10.607863    0.607863\n",
      "2132     11   9.626559   -1.373441\n",
      "1421      6   6.162314    0.162314\n",
      "1690      9   9.438478    0.438478\n",
      "2952      5   6.154953    1.154953\n",
      "1228      9  12.019008    3.019008 \n",
      "\n",
      "Lasso Regression Model training performance:\n",
      "---------------------------\n",
      "RMSE is 2.2045827014380532\n",
      "--------------------------\n"
     ]
    }
   ],
   "source": [
    "\n",
    "# Model evaluation for training set\n",
    "train_target_pred = model_lasso.predict(train_features)\n",
    "rmse = np.sqrt(mean_squared_error(train_target, train_target_pred))\n",
    "\n",
    "# Examine the first 10 predicted output from the model\n",
    "output = pd.DataFrame(train_target[0:10])\n",
    "output['Predicted'] = train_target_pred[0:10]\n",
    "output['Difference'] = output['Predicted'] - output['Rings']\n",
    "print(output, \"\\n\")\n",
    "\n",
    "print(\"Lasso Regression Model training performance:\")\n",
    "print(\"---------------------------\")\n",
    "print('RMSE is {}'.format(rmse))\n",
    "print(\"--------------------------\")"
   ]
  },
  {
   "cell_type": "code",
   "execution_count": 94,
   "metadata": {},
   "outputs": [
    {
     "name": "stdout",
     "output_type": "stream",
     "text": [
      "Lasso Regression Model Cross Validation Training Set performance:\n",
      "---------------------------\n",
      "RMSE is 2.2212441959894513\n",
      "--------------------------\n"
     ]
    }
   ],
   "source": [
    "\n",
    "MSE_CV_scores = -1*(cross_val_score(model_lasso,train_features,train_target,cv=10,scoring='neg_mean_squared_error',n_jobs = -1))\n",
    "\n",
    "RMSE_CV = ( MSE_CV_scores.mean() ) ** (1/2)\n",
    "\n",
    "print(\"Lasso Regression Model Cross Validation Training Set performance:\")\n",
    "print(\"---------------------------\")\n",
    "print('RMSE is {}'.format(RMSE_CV))\n",
    "print(\"--------------------------\")"
   ]
  },
  {
   "cell_type": "code",
   "execution_count": 95,
   "metadata": {},
   "outputs": [
    {
     "name": "stdout",
     "output_type": "stream",
     "text": [
      "      Rings  Predicted  Difference\n",
      "3116     10  11.522347    1.522347\n",
      "110      15  11.433518   -3.566482\n",
      "2845      9   7.738236   -1.261764\n",
      "517       7   7.015239    0.015239\n",
      "340       9   9.126289    0.126289\n",
      "1047      4   7.719870    3.719870\n",
      "1856      8   8.807803    0.807803\n",
      "1668     11  10.295287   -0.704713\n",
      "2455      5   5.923701    0.923701\n",
      "2338      9  10.519488    1.519488 \n",
      "\n",
      "Lasoo Regression Model test performance:\n",
      "---------------------------\n",
      "RMSE is 2.248814721087799\n",
      "--------------------------\n"
     ]
    }
   ],
   "source": [
    "\n",
    "# Model evaluation for testing set\n",
    "validation_target_pred = model_lasso.predict(validation_features)\n",
    "rmse = (np.sqrt(mean_squared_error(validation_target, validation_target_pred)))\n",
    "\n",
    "# Examine the first 10 predicted output from the model\n",
    "output = pd.DataFrame(validation_target[0:10])\n",
    "output['Predicted'] = validation_target_pred[0:10]\n",
    "output['Difference'] = output['Predicted'] - output['Rings']\n",
    "print(output, \"\\n\")\n",
    "\n",
    "print(\"Lasoo Regression Model test performance:\")\n",
    "print(\"---------------------------\")\n",
    "print('RMSE is {}'.format(rmse))\n",
    "print(\"--------------------------\")"
   ]
  },
  {
   "cell_type": "code",
   "execution_count": 96,
   "metadata": {},
   "outputs": [],
   "source": [
    "from sklearn.ensemble import RandomForestRegressor\n",
    "model_rfr = RandomForestRegressor(n_estimators = 20, max_features='auto',max_depth=5,\n",
    "                                  criterion='mse',verbose=2,n_jobs=-1)"
   ]
  },
  {
   "cell_type": "code",
   "execution_count": 97,
   "metadata": {},
   "outputs": [
    {
     "name": "stdout",
     "output_type": "stream",
     "text": [
      "building tree 1 of 20\n",
      "building tree 2 of 20\n",
      "building tree 3 of 20\n",
      "building tree 4 of 20\n",
      "building tree 5 of 20\n",
      "building tree 6 of 20\n",
      "building tree 7 of 20\n",
      "building tree 8 of 20\n",
      "building tree 9 of 20building tree 10 of 20\n",
      "building tree 11 of 20\n",
      "\n",
      "building tree 12 of 20\n",
      "building tree 13 of 20\n",
      "building tree 14 of 20building tree 15 of 20\n",
      "building tree 16 of 20\n",
      "\n",
      "building tree 17 of 20\n",
      "building tree 18 of 20building tree 19 of 20\n",
      "building tree 20 of 20\n",
      "\n"
     ]
    },
    {
     "name": "stderr",
     "output_type": "stream",
     "text": [
      "[Parallel(n_jobs=-1)]: Using backend ThreadingBackend with 8 concurrent workers.\n",
      "[Parallel(n_jobs=-1)]: Done  16 out of  20 | elapsed:    0.0s remaining:    0.0s\n",
      "[Parallel(n_jobs=-1)]: Done  20 out of  20 | elapsed:    0.0s finished\n"
     ]
    },
    {
     "data": {
      "text/plain": [
       "RandomForestRegressor(max_depth=5, n_estimators=20, n_jobs=-1, verbose=2)"
      ]
     },
     "execution_count": 97,
     "metadata": {},
     "output_type": "execute_result"
    }
   ],
   "source": [
    "model_rfr.fit(train_features, train_target)"
   ]
  },
  {
   "cell_type": "code",
   "execution_count": 98,
   "metadata": {},
   "outputs": [
    {
     "name": "stdout",
     "output_type": "stream",
     "text": [
      "      Rings  Predicted  Difference\n",
      "1363     13  14.262831    1.262831\n",
      "937      12  12.150142    0.150142\n",
      "1777     11  10.779966   -0.220034\n",
      "3015      7   7.129588    0.129588\n",
      "2138     10   9.906899   -0.093101\n",
      "2132     11  10.040417   -0.959583\n",
      "1421      6   5.212006   -0.787994\n",
      "1690      9   9.420375    0.420375\n",
      "2952      5   5.063671    0.063671\n",
      "1228      9  11.594684    2.594684 \n",
      "\n",
      "Random Forest Regression Model training performance:\n",
      "---------------------------\n",
      "RMSE is 2.044701296331415\n",
      "--------------------------\n"
     ]
    },
    {
     "name": "stderr",
     "output_type": "stream",
     "text": [
      "[Parallel(n_jobs=8)]: Using backend ThreadingBackend with 8 concurrent workers.\n",
      "[Parallel(n_jobs=8)]: Done  16 out of  20 | elapsed:    0.0s remaining:    0.0s\n",
      "[Parallel(n_jobs=8)]: Done  20 out of  20 | elapsed:    0.0s finished\n"
     ]
    }
   ],
   "source": [
    "# Model evaluation for training set\n",
    "train_target_pred = model_rfr.predict(train_features)\n",
    "rmse = np.sqrt(mean_squared_error(train_target, train_target_pred))\n",
    "\n",
    "# Examine the first 10 predicted output from the model\n",
    "output = pd.DataFrame(train_target[0:10])\n",
    "output['Predicted'] = train_target_pred[0:10]\n",
    "output['Difference'] = output['Predicted'] - output['Rings']\n",
    "print(output, \"\\n\")\n",
    "\n",
    "print(\"Random Forest Regression Model training performance:\")\n",
    "print(\"---------------------------\")\n",
    "print('RMSE is {}'.format(rmse))\n",
    "print(\"--------------------------\")"
   ]
  },
  {
   "cell_type": "code",
   "execution_count": 99,
   "metadata": {},
   "outputs": [
    {
     "name": "stdout",
     "output_type": "stream",
     "text": [
      "Random Forest Regression Model Cross Validation Training Set performance:\n",
      "---------------------------\n",
      "RMSE is 2.249903766123499\n",
      "--------------------------\n"
     ]
    }
   ],
   "source": [
    "MSE_CV_scores = -1*(cross_val_score(model_rfr,train_features,train_target,cv=5,scoring='neg_mean_squared_error',n_jobs = -1))\n",
    "\n",
    "RMSE_CV = ( MSE_CV_scores.mean() ) ** (1/2)\n",
    "\n",
    "print(\"Random Forest Regression Model Cross Validation Training Set performance:\")\n",
    "print(\"---------------------------\")\n",
    "print('RMSE is {}'.format(RMSE_CV))\n",
    "print(\"--------------------------\")"
   ]
  },
  {
   "cell_type": "code",
   "execution_count": 100,
   "metadata": {},
   "outputs": [
    {
     "name": "stdout",
     "output_type": "stream",
     "text": [
      "      Rings  Predicted  Difference\n",
      "3116     10  10.615776    0.615776\n",
      "110      15  10.542457   -4.457543\n",
      "2845      9   7.129588   -1.870412\n",
      "517       7   7.023870    0.023870\n",
      "340       9   9.565619    0.565619\n",
      "1047      4   7.798479    3.798479\n",
      "1856      8   9.158822    1.158822\n",
      "1668     11  10.692842   -0.307158\n",
      "2455      5   4.722950   -0.277050\n",
      "2338      9  11.500834    2.500834 \n",
      "\n",
      "RandomForest Regression Model test performance:\n",
      "---------------------------\n",
      "RMSE is 2.253284549361551\n",
      "--------------------------\n"
     ]
    },
    {
     "name": "stderr",
     "output_type": "stream",
     "text": [
      "[Parallel(n_jobs=8)]: Using backend ThreadingBackend with 8 concurrent workers.\n",
      "[Parallel(n_jobs=8)]: Done  16 out of  20 | elapsed:    0.0s remaining:    0.0s\n",
      "[Parallel(n_jobs=8)]: Done  20 out of  20 | elapsed:    0.0s finished\n"
     ]
    }
   ],
   "source": [
    "# Model evaluation for testing set\n",
    "validation_target_pred = model_rfr.predict(validation_features)\n",
    "rmse = (np.sqrt(mean_squared_error(validation_target, validation_target_pred)))\n",
    "\n",
    "# Examine the first 10 predicted output from the model\n",
    "output = pd.DataFrame(validation_target[0:10])\n",
    "output['Predicted'] = validation_target_pred[0:10]\n",
    "output['Difference'] = output['Predicted'] - output['Rings']\n",
    "print(output, \"\\n\")\n",
    "\n",
    "print(\"RandomForest Regression Model test performance:\")\n",
    "print(\"---------------------------\")\n",
    "print('RMSE is {}'.format(rmse))\n",
    "print(\"--------------------------\")"
   ]
  },
  {
   "cell_type": "code",
   "execution_count": 101,
   "metadata": {},
   "outputs": [],
   "source": [
    "\n",
    "from sklearn.model_selection import GridSearchCV"
   ]
  },
  {
   "cell_type": "code",
   "execution_count": 102,
   "metadata": {},
   "outputs": [],
   "source": [
    "# Different parameters in random forest\n",
    "\n",
    "max_depth = [5,6,7,8]        # what depth to consider\n",
    "\n",
    "n_estimators = [50,60,70,75,80,90,100]       # Number of trees in random forest\n",
    "\n",
    "min_samples_leaf = [5,10,15,20,25,30,40,50]       # Number of features to consider at every split\n",
    "\n",
    "max_features = ['auto', 'sqrt', 'log2']\n",
    "\n",
    "params = {'max_depth': max_depth,\n",
    "          'n_estimators': n_estimators,\n",
    "          'min_samples_leaf': min_samples_leaf,\n",
    "           'max_features' : max_features\n",
    "          }"
   ]
  },
  {
   "cell_type": "code",
   "execution_count": 103,
   "metadata": {},
   "outputs": [],
   "source": [
    "model_gs = GridSearchCV(estimator=model_rfr, param_grid=params, n_jobs=-1)"
   ]
  },
  {
   "cell_type": "code",
   "execution_count": 104,
   "metadata": {},
   "outputs": [
    {
     "name": "stderr",
     "output_type": "stream",
     "text": [
      "[Parallel(n_jobs=-1)]: Using backend ThreadingBackend with 8 concurrent workers.\n",
      "[Parallel(n_jobs=-1)]: Done  25 tasks      | elapsed:    0.0s\n"
     ]
    },
    {
     "name": "stdout",
     "output_type": "stream",
     "text": [
      "building tree 1 of 90\n",
      "building tree 2 of 90\n",
      "building tree 3 of 90\n",
      "building tree 4 of 90\n",
      "building tree 5 of 90\n",
      "building tree 6 of 90\n",
      "building tree 7 of 90\n",
      "building tree 8 of 90\n",
      "building tree 9 of 90building tree 10 of 90\n",
      "\n",
      "building tree 11 of 90\n",
      "building tree 12 of 90\n",
      "building tree 13 of 90\n",
      "building tree 14 of 90\n",
      "building tree 15 of 90\n",
      "building tree 16 of 90\n",
      "building tree 17 of 90\n",
      "building tree 18 of 90building tree 19 of 90\n",
      "\n",
      "building tree 20 of 90\n",
      "building tree 21 of 90building tree 22 of 90\n",
      "building tree 23 of 90\n",
      "building tree 24 of 90\n",
      "\n",
      "building tree 25 of 90\n",
      "building tree 26 of 90building tree 27 of 90\n",
      "building tree 28 of 90building tree 29 of 90\n",
      "\n",
      "building tree 30 of 90\n",
      "\n",
      "building tree 31 of 90building tree 32 of 90\n",
      "\n",
      "building tree 33 of 90building tree 34 of 90building tree 35 of 90\n",
      "\n",
      "building tree 36 of 90\n",
      "\n",
      "building tree 37 of 90\n",
      "building tree 38 of 90\n",
      "building tree 39 of 90\n",
      "building tree 40 of 90\n",
      "building tree 41 of 90building tree 42 of 90\n",
      "building tree 43 of 90\n",
      "\n",
      "building tree 44 of 90\n",
      "building tree 45 of 90building tree 46 of 90\n",
      "\n",
      "building tree 47 of 90building tree 48 of 90\n",
      "\n",
      "building tree 49 of 90building tree 50 of 90\n",
      "building tree 51 of 90\n",
      "\n",
      "building tree 52 of 90building tree 53 of 90building tree 54 of 90\n",
      "\n",
      "\n",
      "building tree 55 of 90\n",
      "building tree 56 of 90\n",
      "building tree 57 of 90building tree 58 of 90\n",
      "building tree 59 of 90\n",
      "building tree 60 of 90\n",
      "building tree 61 of 90\n",
      "building tree 62 of 90\n",
      "\n",
      "building tree 63 of 90\n",
      "building tree 64 of 90\n",
      "building tree 65 of 90building tree 66 of 90\n",
      "building tree 67 of 90\n",
      "building tree 68 of 90\n",
      "\n",
      "building tree 69 of 90building tree 70 of 90\n",
      "\n",
      "building tree 71 of 90\n",
      "building tree 72 of 90\n",
      "building tree 73 of 90\n",
      "building tree 74 of 90building tree 75 of 90building tree 76 of 90\n",
      "\n",
      "\n",
      "building tree 77 of 90building tree 78 of 90building tree 79 of 90\n",
      "\n",
      "\n",
      "building tree 80 of 90building tree 81 of 90building tree 82 of 90\n",
      "\n",
      "building tree 83 of 90building tree 84 of 90\n",
      "building tree 85 of 90\n",
      "\n",
      "\n",
      "building tree 86 of 90building tree 87 of 90\n",
      "\n",
      "building tree 88 of 90building tree 89 of 90\n",
      "\n",
      "building tree 90 of 90\n"
     ]
    },
    {
     "name": "stderr",
     "output_type": "stream",
     "text": [
      "[Parallel(n_jobs=-1)]: Done  90 out of  90 | elapsed:    0.1s finished\n"
     ]
    },
    {
     "data": {
      "text/plain": [
       "GridSearchCV(estimator=RandomForestRegressor(max_depth=5, n_estimators=20,\n",
       "                                             n_jobs=-1, verbose=2),\n",
       "             n_jobs=-1,\n",
       "             param_grid={'max_depth': [5, 6, 7, 8],\n",
       "                         'max_features': ['auto', 'sqrt', 'log2'],\n",
       "                         'min_samples_leaf': [5, 10, 15, 20, 25, 30, 40, 50],\n",
       "                         'n_estimators': [50, 60, 70, 75, 80, 90, 100]})"
      ]
     },
     "execution_count": 104,
     "metadata": {},
     "output_type": "execute_result"
    }
   ],
   "source": [
    "model_gs.fit(train_features, train_target)"
   ]
  },
  {
   "cell_type": "code",
   "execution_count": 105,
   "metadata": {},
   "outputs": [
    {
     "data": {
      "text/plain": [
       "{'max_depth': 8,\n",
       " 'max_features': 'auto',\n",
       " 'min_samples_leaf': 5,\n",
       " 'n_estimators': 90}"
      ]
     },
     "execution_count": 105,
     "metadata": {},
     "output_type": "execute_result"
    }
   ],
   "source": [
    "model_gs.best_params_"
   ]
  },
  {
   "cell_type": "code",
   "execution_count": 106,
   "metadata": {},
   "outputs": [],
   "source": [
    "finalmodel_rfr = RandomForestRegressor(n_estimators = 90, max_features='auto',max_depth=8, min_samples_leaf= 10,\n",
    "                                  criterion='mse',verbose=2,n_jobs=-1)"
   ]
  },
  {
   "cell_type": "code",
   "execution_count": 107,
   "metadata": {},
   "outputs": [
    {
     "name": "stderr",
     "output_type": "stream",
     "text": [
      "[Parallel(n_jobs=-1)]: Using backend ThreadingBackend with 8 concurrent workers.\n",
      "[Parallel(n_jobs=-1)]: Done  25 tasks      | elapsed:    0.0s\n",
      "[Parallel(n_jobs=-1)]: Done  90 out of  90 | elapsed:    0.1s finished\n"
     ]
    },
    {
     "name": "stdout",
     "output_type": "stream",
     "text": [
      "building tree 1 of 90\n",
      "building tree 2 of 90\n",
      "building tree 3 of 90\n",
      "building tree 4 of 90\n",
      "building tree 5 of 90\n",
      "building tree 6 of 90\n",
      "building tree 7 of 90\n",
      "building tree 8 of 90\n",
      "building tree 9 of 90\n",
      "building tree 10 of 90building tree 11 of 90\n",
      "\n",
      "building tree 12 of 90building tree 13 of 90building tree 14 of 90\n",
      "\n",
      "\n",
      "building tree 15 of 90\n",
      "building tree 16 of 90\n",
      "building tree 17 of 90\n",
      "building tree 18 of 90\n",
      "building tree 19 of 90\n",
      "building tree 20 of 90\n",
      "building tree 21 of 90\n",
      "building tree 22 of 90building tree 23 of 90\n",
      "building tree 24 of 90\n",
      "\n",
      "building tree 25 of 90building tree 26 of 90\n",
      "building tree 27 of 90\n",
      "\n",
      "building tree 28 of 90\n",
      "building tree 29 of 90building tree 30 of 90\n",
      "building tree 31 of 90\n",
      "building tree 32 of 90\n",
      "\n",
      "building tree 33 of 90\n",
      "building tree 34 of 90building tree 35 of 90\n",
      "\n",
      "building tree 36 of 90\n",
      "building tree 37 of 90building tree 38 of 90\n",
      "\n",
      "building tree 39 of 90\n",
      "building tree 40 of 90\n",
      "building tree 41 of 90\n",
      "building tree 42 of 90\n",
      "building tree 43 of 90building tree 44 of 90\n",
      "building tree 45 of 90\n",
      "building tree 46 of 90building tree 47 of 90\n",
      "\n",
      "\n",
      "building tree 48 of 90\n",
      "building tree 49 of 90building tree 50 of 90\n",
      "building tree 51 of 90\n",
      "building tree 52 of 90\n",
      "\n",
      "building tree 53 of 90building tree 54 of 90\n",
      "\n",
      "building tree 55 of 90building tree 56 of 90\n",
      "\n",
      "building tree 57 of 90\n",
      "building tree 58 of 90building tree 59 of 90building tree 60 of 90\n",
      "\n",
      "\n",
      "building tree 61 of 90\n",
      "building tree 62 of 90\n",
      "building tree 63 of 90\n",
      "building tree 64 of 90\n",
      "building tree 65 of 90building tree 66 of 90building tree 67 of 90\n",
      "building tree 68 of 90\n",
      "\n",
      "\n",
      "building tree 69 of 90building tree 70 of 90building tree 71 of 90\n",
      "building tree 72 of 90\n",
      "\n",
      "\n",
      "building tree 73 of 90\n",
      "building tree 74 of 90building tree 75 of 90\n",
      "\n",
      "building tree 76 of 90\n",
      "building tree 77 of 90\n",
      "building tree 78 of 90\n",
      "building tree 79 of 90\n",
      "building tree 80 of 90\n",
      "building tree 81 of 90\n",
      "building tree 82 of 90\n",
      "building tree 83 of 90\n",
      "building tree 84 of 90building tree 85 of 90building tree 86 of 90\n",
      "\n",
      "\n",
      "building tree 87 of 90\n",
      "building tree 88 of 90\n",
      "building tree 89 of 90\n",
      "building tree 90 of 90\n"
     ]
    },
    {
     "data": {
      "text/plain": [
       "RandomForestRegressor(max_depth=8, min_samples_leaf=10, n_estimators=90,\n",
       "                      n_jobs=-1, verbose=2)"
      ]
     },
     "execution_count": 107,
     "metadata": {},
     "output_type": "execute_result"
    }
   ],
   "source": [
    "finalmodel_rfr.fit(train_features, train_target)"
   ]
  },
  {
   "cell_type": "code",
   "execution_count": 108,
   "metadata": {},
   "outputs": [
    {
     "name": "stdout",
     "output_type": "stream",
     "text": [
      "      Rings  Predicted  Difference\n",
      "1363     13  14.382902    1.382902\n",
      "937      12  11.151020   -0.848980\n",
      "1777     11  11.148952    0.148952\n",
      "3015      7   7.320480    0.320480\n",
      "2138     10   9.708442   -0.291558\n",
      "2132     11   9.767514   -1.232486\n",
      "1421      6   5.221917   -0.778083\n",
      "1690      9   9.349896    0.349896\n",
      "2952      5   5.115613    0.115613\n",
      "1228      9  10.744449    1.744449 \n",
      "\n",
      "RandomForest HyperParameter Tuned Regression Model training performance:\n",
      "---------------------------\n",
      "RMSE is 1.8384311112386873\n",
      "--------------------------\n"
     ]
    },
    {
     "name": "stderr",
     "output_type": "stream",
     "text": [
      "[Parallel(n_jobs=8)]: Using backend ThreadingBackend with 8 concurrent workers.\n",
      "[Parallel(n_jobs=8)]: Done  25 tasks      | elapsed:    0.0s\n",
      "[Parallel(n_jobs=8)]: Done  90 out of  90 | elapsed:    0.0s finished\n"
     ]
    }
   ],
   "source": [
    "\n",
    "# Model evaluation for testing set\n",
    "train_target_pred = finalmodel_rfr.predict(train_features)\n",
    "rmse = (np.sqrt(mean_squared_error(train_target, train_target_pred)))\n",
    "\n",
    "# Examine the first 10 predicted output from the model\n",
    "output = pd.DataFrame(train_target[0:10])\n",
    "output['Predicted'] = train_target_pred[0:10]\n",
    "output['Difference'] = output['Predicted'] - output['Rings']\n",
    "print(output, \"\\n\")\n",
    "\n",
    "print(\"RandomForest HyperParameter Tuned Regression Model training performance:\")\n",
    "print(\"---------------------------\")\n",
    "print('RMSE is {}'.format(rmse))\n",
    "print(\"--------------------------\")"
   ]
  },
  {
   "cell_type": "code",
   "execution_count": 109,
   "metadata": {},
   "outputs": [
    {
     "name": "stdout",
     "output_type": "stream",
     "text": [
      "RandomForest HyperParameter Tuned Regression Model Cross Validation Training Set performance:\n",
      "---------------------------\n",
      "RMSE is 2.1706633373417907\n",
      "--------------------------\n"
     ]
    }
   ],
   "source": [
    "MSE_CV_scores = -1*(cross_val_score(finalmodel_rfr,train_features,train_target,cv=10,scoring='neg_mean_squared_error',n_jobs = -1))\n",
    "\n",
    "RMSE_CV = ( MSE_CV_scores.mean() ) ** (1/2)\n",
    "\n",
    "print(\"RandomForest HyperParameter Tuned Regression Model Cross Validation Training Set performance:\")\n",
    "print(\"---------------------------\")\n",
    "print('RMSE is {}'.format(RMSE_CV))\n",
    "print(\"--------------------------\")"
   ]
  },
  {
   "cell_type": "code",
   "execution_count": 110,
   "metadata": {},
   "outputs": [
    {
     "name": "stdout",
     "output_type": "stream",
     "text": [
      "      Rings  Predicted  Difference\n",
      "3116     10  10.360794    0.360794\n",
      "110      15  10.873980   -4.126020\n",
      "2845      9   7.804713   -1.195287\n",
      "517       7   6.818097   -0.181903\n",
      "340       9  10.208104    1.208104\n",
      "1047      4   7.508510    3.508510\n",
      "1856      8   8.734323    0.734323\n",
      "1668     11  10.310153   -0.689847\n",
      "2455      5   4.793558   -0.206442\n",
      "2338      9  10.997969    1.997969 \n",
      "\n",
      "RandomForest HyperParameter Tuned Regression Model test performance:\n",
      "---------------------------\n",
      "RMSE is 2.1623927397543543\n",
      "--------------------------\n"
     ]
    },
    {
     "name": "stderr",
     "output_type": "stream",
     "text": [
      "[Parallel(n_jobs=8)]: Using backend ThreadingBackend with 8 concurrent workers.\n",
      "[Parallel(n_jobs=8)]: Done  25 tasks      | elapsed:    0.0s\n",
      "[Parallel(n_jobs=8)]: Done  90 out of  90 | elapsed:    0.0s finished\n"
     ]
    }
   ],
   "source": [
    "# Model evaluation for testing set\n",
    "validation_target_pred = finalmodel_rfr.predict(validation_features)\n",
    "rmse = (np.sqrt(mean_squared_error(validation_target, validation_target_pred)))\n",
    "\n",
    "# Examine the first 10 predicted output from the model\n",
    "output = pd.DataFrame(validation_target[0:10])\n",
    "output['Predicted'] = validation_target_pred[0:10]\n",
    "output['Difference'] = output['Predicted'] - output['Rings']\n",
    "print(output, \"\\n\")\n",
    "\n",
    "print(\"RandomForest HyperParameter Tuned Regression Model test performance:\")\n",
    "print(\"---------------------------\")\n",
    "print('RMSE is {}'.format(rmse))\n",
    "print(\"--------------------------\")"
   ]
  },
  {
   "cell_type": "code",
   "execution_count": 111,
   "metadata": {},
   "outputs": [
    {
     "data": {
      "text/plain": [
       "<matplotlib.axes._subplots.AxesSubplot at 0x20846c88c48>"
      ]
     },
     "execution_count": 111,
     "metadata": {},
     "output_type": "execute_result"
    },
    {
     "data": {
      "image/png": "[encoded data removed]",
      "text/plain": [
       "<Figure size 720x432 with 1 Axes>"
      ]
     },
     "metadata": {
      "needs_background": "light"
     },
     "output_type": "display_data"
    }
   ],
   "source": [
    "feature_importances_data = []\n",
    "features = train_features.columns\n",
    "for feature_name, feature_importance in zip(features, model_rfr.feature_importances_):\n",
    "    feature_importances_data.append({\n",
    "        'feature': feature_name,\n",
    "        'importance': feature_importance\n",
    "    })\n",
    "\n",
    "# Plot the results\n",
    "pd.DataFrame(feature_importances_data)\\\n",
    "    .set_index('feature')\\\n",
    "    .sort_values(by='importance')[-10::]\\\n",
    "    .plot(title='Top 10 most important variables',\n",
    "          kind='barh',\n",
    "          figsize=(10, 6),\n",
    "          color='#348ABD',\n",
    "          alpha=0.6,\n",
    "          lw='1',\n",
    "          edgecolor='#348ABD',\n",
    "          grid=False,)"
   ]
  },
  {
   "cell_type": "code",
   "execution_count": null,
   "metadata": {},
   "outputs": [],
   "source": []
  },
  {
   "cell_type": "code",
   "execution_count": null,
   "metadata": {},
   "outputs": [],
   "source": []
  }
 ],
 "metadata": {
  "kernelspec": {
   "display_name": "Python 3",
   "language": "python",
   "name": "python3"
  },
  "language_info": {
   "codemirror_mode": {
    "name": "ipython",
    "version": 3
   },
   "file_extension": ".py",
   "mimetype": "text/x-python",
   "name": "python",
   "nbconvert_exporter": "python",
   "pygments_lexer": "ipython3",
   "version": "3.7.6"
  }
 },
 "nbformat": 4,
 "nbformat_minor": 4
}
